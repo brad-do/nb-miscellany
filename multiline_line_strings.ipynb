{
 "cells": [
  {
   "cell_type": "markdown",
   "metadata": {},
   "source": [
    "<div style='text-align:center;'><h1>Multiline Strings in Python</h1></div>"
   ]
  },
  {
   "cell_type": "markdown",
   "metadata": {},
   "source": [
    "### I often have multiline string variables--such as long SQL statements--to deal with in my notebooks.  Here are a few ways I've found to deal with these values without forcing my cells scroll horizontally."
   ]
  },
  {
   "cell_type": "markdown",
   "metadata": {},
   "source": [
    "### Load packages"
   ]
  },
  {
   "cell_type": "code",
   "execution_count": 3,
   "metadata": {},
   "outputs": [
    {
     "name": "stdout",
     "output_type": "stream",
     "text": [
      "The sql_magic extension is already loaded. To reload it, use:\n",
      "  %reload_ext sql_magic\n"
     ]
    }
   ],
   "source": [
    "import sqlite3\n",
    "import pandas as pd\n",
    "\n",
    "# from the good people at Pivotal: https://github.com/pivotal/sql_magic\n",
    "%load_ext sql_magic  "
   ]
  },
  {
   "cell_type": "markdown",
   "metadata": {},
   "source": [
    "### Open a connection to my test sqlite database"
   ]
  },
  {
   "cell_type": "code",
   "execution_count": 4,
   "metadata": {},
   "outputs": [],
   "source": [
    "conn = sqlite3.connect('mwc.db')\n",
    "curs = conn.cursor()"
   ]
  },
  {
   "cell_type": "markdown",
   "metadata": {},
   "source": [
    "#### Option 1: Concat multiline strings with the plus operator"
   ]
  },
  {
   "cell_type": "code",
   "execution_count": 5,
   "metadata": {},
   "outputs": [
    {
     "data": {
      "text/plain": [
       "[('Al', 'Bundy', 'Shoe Salesman'),\n",
       " ('Peg', 'Bundy', 'Homemaker'),\n",
       " ('Kelly', 'Bundy', 'Verminator'),\n",
       " ('Bud', 'Bundy', 'DMV Agent'),\n",
       " ('Buck', 'Bundy', 'Dog'),\n",
       " ('Marcy', 'Darcy', 'Bank Executive'),\n",
       " ('Jefferson', 'Darcy', 'Freeloader')]"
      ]
     },
     "execution_count": 5,
     "metadata": {},
     "output_type": "execute_result"
    }
   ],
   "source": [
    "#the old surround-the-string-with-parentheses technique\n",
    "qry1 = ('SELECT fname ' +\n",
    "        ',lname ' +\n",
    "        ',job_title ' +\n",
    "        'FROM people')\n",
    "\n",
    "curs.execute(qry1)\n",
    "curs.fetchall()"
   ]
  },
  {
   "cell_type": "markdown",
   "metadata": {},
   "source": [
    "#### Option 2: Turns out, though, that I don't need to use the plus sign when I surround my string with parentheses"
   ]
  },
  {
   "cell_type": "code",
   "execution_count": 6,
   "metadata": {},
   "outputs": [
    {
     "data": {
      "text/plain": [
       "[('Al', 'Bundy', 'Shoe Salesman'),\n",
       " ('Peg', 'Bundy', 'Homemaker'),\n",
       " ('Kelly', 'Bundy', 'Verminator'),\n",
       " ('Bud', 'Bundy', 'DMV Agent'),\n",
       " ('Buck', 'Bundy', 'Dog'),\n",
       " ('Marcy', 'Darcy', 'Bank Executive'),\n",
       " ('Jefferson', 'Darcy', 'Freeloader')]"
      ]
     },
     "execution_count": 6,
     "metadata": {},
     "output_type": "execute_result"
    }
   ],
   "source": [
    "#the old surround-the-string-with-parentheses technique\n",
    "qry2 = ('SELECT fname '\n",
    "        ',lname '\n",
    "        ',job_title '\n",
    "        'FROM people')\n",
    "\n",
    "curs.execute(qry2)\n",
    "curs.fetchall()"
   ]
  },
  {
   "cell_type": "markdown",
   "metadata": {},
   "source": [
    "#### Option 3: I can use a backslash to concatenate lines"
   ]
  },
  {
   "cell_type": "code",
   "execution_count": 7,
   "metadata": {},
   "outputs": [
    {
     "data": {
      "text/plain": [
       "[('Al', 'Bundy', 'Shoe Salesman'),\n",
       " ('Peg', 'Bundy', 'Homemaker'),\n",
       " ('Kelly', 'Bundy', 'Verminator'),\n",
       " ('Bud', 'Bundy', 'DMV Agent'),\n",
       " ('Buck', 'Bundy', 'Dog'),\n",
       " ('Marcy', 'Darcy', 'Bank Executive'),\n",
       " ('Jefferson', 'Darcy', 'Freeloader')]"
      ]
     },
     "execution_count": 7,
     "metadata": {},
     "output_type": "execute_result"
    }
   ],
   "source": [
    "qry3 = 'SELECT fname ' \\\n",
    "        ',lname ' \\\n",
    "        ',job_title ' \\\n",
    "        'FROM people'\n",
    "        \n",
    "curs.execute(qry3)\n",
    "curs.fetchall()"
   ]
  },
  {
   "cell_type": "markdown",
   "metadata": {},
   "source": [
    "#### Option 4: This is probably my favorite option--use triple quotes around my entire string block"
   ]
  },
  {
   "cell_type": "code",
   "execution_count": 8,
   "metadata": {},
   "outputs": [
    {
     "data": {
      "text/plain": [
       "[('Al', 'Bundy', 'Shoe Salesman'),\n",
       " ('Peg', 'Bundy', 'Homemaker'),\n",
       " ('Kelly', 'Bundy', 'Verminator'),\n",
       " ('Bud', 'Bundy', 'DMV Agent'),\n",
       " ('Buck', 'Bundy', 'Dog'),\n",
       " ('Marcy', 'Darcy', 'Bank Executive'),\n",
       " ('Jefferson', 'Darcy', 'Freeloader')]"
      ]
     },
     "execution_count": 8,
     "metadata": {},
     "output_type": "execute_result"
    }
   ],
   "source": [
    "qry4 = \"\"\"\n",
    "SELECT fname\n",
    "    ,lname\n",
    "    ,job_title\n",
    "FROM people\n",
    "\"\"\"\n",
    "\n",
    "curs.execute(qry4)\n",
    "curs.fetchall()"
   ]
  },
  {
   "cell_type": "markdown",
   "metadata": {},
   "source": [
    "#### Option 5: For SQL specifically, the sql_magic magic word turns your cell into a SQL block and even loads your results in a convenient dataframe (in this case, *df_result*)"
   ]
  },
  {
   "cell_type": "code",
   "execution_count": 9,
   "metadata": {},
   "outputs": [
    {
     "name": "stdout",
     "output_type": "stream",
     "text": [
      "Query started at 10:00:42 PM Eastern Daylight Time; Query executed in 0.00 m"
     ]
    },
    {
     "data": {
      "text/html": [
       "<div>\n",
       "<style>\n",
       "    .dataframe thead tr:only-child th {\n",
       "        text-align: right;\n",
       "    }\n",
       "\n",
       "    .dataframe thead th {\n",
       "        text-align: left;\n",
       "    }\n",
       "\n",
       "    .dataframe tbody tr th {\n",
       "        vertical-align: top;\n",
       "    }\n",
       "</style>\n",
       "<table border=\"1\" class=\"dataframe\">\n",
       "  <thead>\n",
       "    <tr style=\"text-align: right;\">\n",
       "      <th></th>\n",
       "      <th>fname</th>\n",
       "      <th>lname</th>\n",
       "      <th>job_title</th>\n",
       "    </tr>\n",
       "  </thead>\n",
       "  <tbody>\n",
       "    <tr>\n",
       "      <th>0</th>\n",
       "      <td>Al</td>\n",
       "      <td>Bundy</td>\n",
       "      <td>Shoe Salesman</td>\n",
       "    </tr>\n",
       "    <tr>\n",
       "      <th>1</th>\n",
       "      <td>Peg</td>\n",
       "      <td>Bundy</td>\n",
       "      <td>Homemaker</td>\n",
       "    </tr>\n",
       "    <tr>\n",
       "      <th>2</th>\n",
       "      <td>Kelly</td>\n",
       "      <td>Bundy</td>\n",
       "      <td>Verminator</td>\n",
       "    </tr>\n",
       "    <tr>\n",
       "      <th>3</th>\n",
       "      <td>Bud</td>\n",
       "      <td>Bundy</td>\n",
       "      <td>DMV Agent</td>\n",
       "    </tr>\n",
       "    <tr>\n",
       "      <th>4</th>\n",
       "      <td>Buck</td>\n",
       "      <td>Bundy</td>\n",
       "      <td>Dog</td>\n",
       "    </tr>\n",
       "    <tr>\n",
       "      <th>5</th>\n",
       "      <td>Marcy</td>\n",
       "      <td>Darcy</td>\n",
       "      <td>Bank Executive</td>\n",
       "    </tr>\n",
       "    <tr>\n",
       "      <th>6</th>\n",
       "      <td>Jefferson</td>\n",
       "      <td>Darcy</td>\n",
       "      <td>Freeloader</td>\n",
       "    </tr>\n",
       "  </tbody>\n",
       "</table>\n",
       "</div>"
      ],
      "text/plain": [
       "       fname  lname       job_title\n",
       "0         Al  Bundy   Shoe Salesman\n",
       "1        Peg  Bundy       Homemaker\n",
       "2      Kelly  Bundy      Verminator\n",
       "3        Bud  Bundy       DMV Agent\n",
       "4       Buck  Bundy             Dog\n",
       "5      Marcy  Darcy  Bank Executive\n",
       "6  Jefferson  Darcy      Freeloader"
      ]
     },
     "execution_count": 9,
     "metadata": {},
     "output_type": "execute_result"
    }
   ],
   "source": [
    "%%read_sql df_result -c conn\n",
    "SELECT fname\n",
    "    ,lname\n",
    "    ,job_title\n",
    "FROM people"
   ]
  },
  {
   "cell_type": "markdown",
   "metadata": {},
   "source": [
    "### Be a good database steward and close my connection"
   ]
  },
  {
   "cell_type": "code",
   "execution_count": 10,
   "metadata": {},
   "outputs": [],
   "source": [
    "curs.close()\n",
    "conn.close()"
   ]
  },
  {
   "cell_type": "markdown",
   "metadata": {},
   "source": [
    "### So, what other options are there to deal with multiline strings in Python?"
   ]
  }
 ],
 "metadata": {
  "kernelspec": {
   "display_name": "Python 3",
   "language": "python",
   "name": "python3"
  },
  "language_info": {
   "codemirror_mode": {
    "name": "ipython",
    "version": 3
   },
   "file_extension": ".py",
   "mimetype": "text/x-python",
   "name": "python",
   "nbconvert_exporter": "python",
   "pygments_lexer": "ipython3",
   "version": "3.6.2"
  }
 },
 "nbformat": 4,
 "nbformat_minor": 2
}
