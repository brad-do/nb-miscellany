{
 "cells": [
  {
   "cell_type": "markdown",
   "metadata": {},
   "source": [
    "<h1 style=\"text-align:center\">Pandas' read_html function, Part 2</h1>\n",
    "\n",
    "#### In my [read_html Part 1](read_html_part1.ipynb), I provided a simple example of using [Pandas](https://pandas.pydata.org/) to read tables from a static HTML file you have on disk.  This is certainly valid for some use cases.  However, if you're like me, you'll have other use cases where you'll want to read tables live from the Internet.  This \"Part 2\" provides an example of that.\n",
    "\n",
    "#### My go-to Python package for reading files from the Internet is [requests](http://docs.python-requests.org/en/master/).  Indeed, I started this example with *requests*, but quickly found it wouldn't work for me with the page I wanted to read.  Some pages on the internet already contain their data pre-loaded in the HTML.  Increasingly, though, web developers are using Javascript to load data on their pages.  Unfortunately, *requests* isn't savvy enough to pick up data loaded with Javascript.  So, I had to turn to a slightly more sophisticated approach.  [Selenium](https://www.seleniumhq.org/) proved to be the solution I needed.\n",
    "\n",
    "#### In this example, I use Python's selenium package to retrieve [Federal Reserve balance sheet data](https://www.federalreserve.gov/monetarypolicy/bst_recenttrends_accessible.htm), which is loaded onto the page with Javascript.  As part of the setup, I had to do two things:\n",
    "1. pip/conda install the selenium package\n",
    "1. download Mozilla's [gecko driver](https://github.com/mozilla/geckodriver/releases) to my hard drive\n",
    "\n",
    "#### Below is my code.  Here are a few things to note:\n",
    " - By default, when you run selenium, a new instance of your browser will launch and run all the commands you programmatically issue to it.  This can be very helpful debugging your code, but can also get annoying after a while, so I suppress the launch of the browser window with the [Options library](https://selenium-python.readthedocs.io/api.html#module-selenium.webdriver.firefox.options).\n",
    " - Load time can be important.  Not all web pages load quickly.  Selenium includes a variety of options to pause your code until the data you're looking for has been loaded.  For simplicity, I just made my code sleep for five seconds to ensure the page full loaded.\n",
    " - Pandas [read_html](https://pandas.pydata.org/pandas-docs/version/0.23.4/generated/pandas.read_html.html) isn't without its challenges.  Initially, I tried to pass the entire HTML to the function, but the function was unable to find the tables.  I suspect the tables may be too deeply nested in the HTML for pandas to find, but I don't know for sure.  So, I used other features of selenium to find the table elements I wanted and passed that HTML into the read_html function.  There are several tables on this page that I'll probably want to process, so I'll probably have to write a loop to grab them all.  This code only shows me grabbing the first table.\n",
    " \n",
    "#### This is a great way to easy grab the data you need from the Internet!"
   ]
  },
  {
   "cell_type": "code",
   "execution_count": 23,
   "metadata": {},
   "outputs": [],
   "source": [
    "from selenium import webdriver\n",
    "from selenium.webdriver.firefox.options import Options\n",
    "import time"
   ]
  },
  {
   "cell_type": "code",
   "execution_count": 24,
   "metadata": {},
   "outputs": [],
   "source": [
    "options = Options()\n",
    "options.headless = True  # stop the browser from popping up\n",
    "\n",
    "driver = webdriver.Firefox(options=options, executable_path=\"C:\\geckodriver-v0.24.0-win64\\geckodriver.exe\")\n",
    "driver.get(\"https://www.federalreserve.gov/monetarypolicy/bst_recenttrends_accessible.htm\")\n",
    "assert \"Federal Reserve Board - Balance Sheet Trends - Accessible\" in driver.title\n",
    "\n",
    "time.sleep(5)  # wait 5 seconds for the page to load the data\n",
    "df_total_assets = pd.read_html(driver.find_element_by_tag_name(\"table\").get_attribute('outerHTML'))[0]\n",
    "\n",
    "driver.quit()"
   ]
  },
  {
   "cell_type": "code",
   "execution_count": 25,
   "metadata": {},
   "outputs": [
    {
     "data": {
      "text/html": [
       "<div>\n",
       "<style>\n",
       "    .dataframe thead tr:only-child th {\n",
       "        text-align: right;\n",
       "    }\n",
       "\n",
       "    .dataframe thead th {\n",
       "        text-align: left;\n",
       "    }\n",
       "\n",
       "    .dataframe tbody tr th {\n",
       "        vertical-align: top;\n",
       "    }\n",
       "</style>\n",
       "<table border=\"1\" class=\"dataframe\">\n",
       "  <thead>\n",
       "    <tr style=\"text-align: right;\">\n",
       "      <th></th>\n",
       "      <th>Date</th>\n",
       "      <th>Total Assets</th>\n",
       "    </tr>\n",
       "  </thead>\n",
       "  <tbody>\n",
       "    <tr>\n",
       "      <th>0</th>\n",
       "      <td>Date</td>\n",
       "      <td>Total Assets</td>\n",
       "    </tr>\n",
       "    <tr>\n",
       "      <th>1</th>\n",
       "      <td>1-Aug-2007</td>\n",
       "      <td>870261</td>\n",
       "    </tr>\n",
       "    <tr>\n",
       "      <th>2</th>\n",
       "      <td>8-Aug-2007</td>\n",
       "      <td>865453</td>\n",
       "    </tr>\n",
       "    <tr>\n",
       "      <th>3</th>\n",
       "      <td>15-Aug-2007</td>\n",
       "      <td>864931</td>\n",
       "    </tr>\n",
       "    <tr>\n",
       "      <th>4</th>\n",
       "      <td>22-Aug-2007</td>\n",
       "      <td>862775</td>\n",
       "    </tr>\n",
       "  </tbody>\n",
       "</table>\n",
       "</div>"
      ],
      "text/plain": [
       "          Date  Total Assets\n",
       "0         Date  Total Assets\n",
       "1   1-Aug-2007        870261\n",
       "2   8-Aug-2007        865453\n",
       "3  15-Aug-2007        864931\n",
       "4  22-Aug-2007        862775"
      ]
     },
     "execution_count": 25,
     "metadata": {},
     "output_type": "execute_result"
    }
   ],
   "source": [
    "df_total_assets.head()"
   ]
  },
  {
   "cell_type": "code",
   "execution_count": 26,
   "metadata": {},
   "outputs": [
    {
     "data": {
      "text/html": [
       "<div>\n",
       "<style>\n",
       "    .dataframe thead tr:only-child th {\n",
       "        text-align: right;\n",
       "    }\n",
       "\n",
       "    .dataframe thead th {\n",
       "        text-align: left;\n",
       "    }\n",
       "\n",
       "    .dataframe tbody tr th {\n",
       "        vertical-align: top;\n",
       "    }\n",
       "</style>\n",
       "<table border=\"1\" class=\"dataframe\">\n",
       "  <thead>\n",
       "    <tr style=\"text-align: right;\">\n",
       "      <th></th>\n",
       "      <th>Date</th>\n",
       "      <th>Total Assets</th>\n",
       "    </tr>\n",
       "  </thead>\n",
       "  <tbody>\n",
       "    <tr>\n",
       "      <th>597</th>\n",
       "      <td>2-Jan-2019</td>\n",
       "      <td>4058378</td>\n",
       "    </tr>\n",
       "    <tr>\n",
       "      <th>598</th>\n",
       "      <td>9-Jan-2019</td>\n",
       "      <td>4056563</td>\n",
       "    </tr>\n",
       "    <tr>\n",
       "      <th>599</th>\n",
       "      <td>16-Jan-2019</td>\n",
       "      <td>4050044</td>\n",
       "    </tr>\n",
       "    <tr>\n",
       "      <th>600</th>\n",
       "      <td>23-Jan-2019</td>\n",
       "      <td>4047052</td>\n",
       "    </tr>\n",
       "    <tr>\n",
       "      <th>601</th>\n",
       "      <td>30-Jan-2019</td>\n",
       "      <td>4039678</td>\n",
       "    </tr>\n",
       "  </tbody>\n",
       "</table>\n",
       "</div>"
      ],
      "text/plain": [
       "            Date Total Assets\n",
       "597   2-Jan-2019      4058378\n",
       "598   9-Jan-2019      4056563\n",
       "599  16-Jan-2019      4050044\n",
       "600  23-Jan-2019      4047052\n",
       "601  30-Jan-2019      4039678"
      ]
     },
     "execution_count": 26,
     "metadata": {},
     "output_type": "execute_result"
    }
   ],
   "source": [
    "df_total_assets.tail()"
   ]
  }
 ],
 "metadata": {
  "kernelspec": {
   "display_name": "Python 3",
   "language": "python",
   "name": "python3"
  },
  "language_info": {
   "codemirror_mode": {
    "name": "ipython",
    "version": 3
   },
   "file_extension": ".py",
   "mimetype": "text/x-python",
   "name": "python",
   "nbconvert_exporter": "python",
   "pygments_lexer": "ipython3",
   "version": "3.6.2"
  }
 },
 "nbformat": 4,
 "nbformat_minor": 2
}
