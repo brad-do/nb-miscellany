{
 "cells": [
  {
   "cell_type": "code",
   "execution_count": 15,
   "metadata": {},
   "outputs": [
    {
     "name": "stdout",
     "output_type": "stream",
     "text": [
      "Using default conversion factor of 1024:\n",
      "(1.0, '1.00 KB')\n",
      "(1536.0, '1,536.00 MB')\n",
      "(0.05791015625, '0.06 TB')\n",
      "\n",
      "Using this IEC/SI conversion factor of 1000:\n",
      "(1.024, '1.02 KB')\n",
      "(1500.0, '1,500.00 MB')\n",
      "(0.0593, '0.06 TB')\n"
     ]
    }
   ],
   "source": [
    "# https://stackoverflow.com/questions/5194057/better-way-to-convert-file-sizes-in-python\n",
    "# https://www.convertunits.com/from/MB/to/GB\n",
    "import re\n",
    "\n",
    "\n",
    "def convert_filesize(size, desired_uom, factor=1024):\n",
    "    \"\"\"Converts a provided computer data storage value to a different unit of measure.\n",
    "    \n",
    "    Keyword arguments:\n",
    "    size -- a string of the current size (ex. '1.5 GB')\n",
    "    desired_uom -- a string of the new unit of measure (ex. 'TB')\n",
    "    factor -- the factor used in the conversion (default 1024)\n",
    "    \"\"\"\n",
    "    uom_options = ['B', 'KB', 'MB', 'GB', 'TB']\n",
    "    supplied_uom = re.search(r'[a-zA-Z]+', size)\n",
    "    if supplied_uom:\n",
    "        supplied_uom = supplied_uom.group()\n",
    "    else:\n",
    "        raise ValueError('size argument did not contain expected unit of measure')\n",
    "        \n",
    "    supplied_size = float(size.replace(supplied_uom, ''))\n",
    "    supplied_size_in_bytes = supplied_size * (factor ** (uom_options.index(supplied_uom)))\n",
    "    converted_size = supplied_size_in_bytes / (factor ** (uom_options.index(desired_uom)))\n",
    "    return converted_size, '{0:,.2f} {1}'.format(converted_size, desired_uom)\n",
    "\n",
    "\n",
    "# non SI conversion\n",
    "print('Using default conversion factor of 1024:')\n",
    "print(convert_filesize('1024 B', 'KB'))\n",
    "print(convert_filesize('1.5 GB', 'MB'))\n",
    "print(convert_filesize('59.3 GB', 'TB'))\n",
    "\n",
    "print('\\nUsing this IEC/SI conversion factor of 1000:')\n",
    "# conversion recommended by IEC (https://www.convertunits.com/from/MB/to/GB)\n",
    "print(convert_filesize('1024 B', 'KB', factor=1000))\n",
    "print(convert_filesize('1.5 GB', 'MB', factor=1000))\n",
    "print(convert_filesize('59.3 GB', 'TB', factor=1000))"
   ]
  },
  {
   "cell_type": "code",
   "execution_count": 8,
   "metadata": {},
   "outputs": [
    {
     "data": {
      "text/plain": [
       "1536.0"
      ]
     },
     "execution_count": 8,
     "metadata": {},
     "output_type": "execute_result"
    }
   ],
   "source": [
    "s = convert_filesize('1.5 GB', 'MB')\n",
    "s[0]"
   ]
  }
 ],
 "metadata": {
  "kernelspec": {
   "display_name": "Python 3",
   "language": "python",
   "name": "python3"
  },
  "language_info": {
   "codemirror_mode": {
    "name": "ipython",
    "version": 3
   },
   "file_extension": ".py",
   "mimetype": "text/x-python",
   "name": "python",
   "nbconvert_exporter": "python",
   "pygments_lexer": "ipython3",
   "version": "3.7.4"
  }
 },
 "nbformat": 4,
 "nbformat_minor": 2
}
