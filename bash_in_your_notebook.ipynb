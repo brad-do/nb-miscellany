{
 "cells": [
  {
   "cell_type": "markdown",
   "metadata": {},
   "source": [
    "# Bash in Your Notebook\n",
    "At work recently, I had to call an internal REST API.  To try the API out, I fired up my Ubuntu in my Windows Subsystem for Linux and ran a cURL command to try out the interface.  That went well, so I created a new Jupyter Notebook in which to call the API--I wanted to take the load them into a pandas dataframe, and create a chart across the data.\n",
    "\n",
    "So, I called the API with the [requests](https://realpython.com/python-requests/) and promptly received a SSL \"bad handshake\" error.  [Like many others](https://stackoverflow.com/questions/28667684/python-requests-getting-sslerror), I struggled to resolve this error.  Clearly, the server hosting that API was malconfigured in some way.  However, I didn't own the server and had no real recourse to get the issue fixed, so I decided to call cURL directly from my notebook and this led me to the [bash magic command](https://ipython.readthedocs.io/en/stable/interactive/magics.html#cellmagic-bash).\n",
    "\n",
    "With the *bash* magic command, you can mark tell Jupyter Notebook to run all the commands in your cell as if you were executing them at a bash command prompt...even if you're running Jupyter Notebook on a Windows operating system.  How cool is that?!  Furthermore, with the *out* argument, you can pipe all your cell output to a variable for easy processing.  Check this out:<br><br>\n",
    "(Note: I'm using the free lyrics API from [lyrics.ovh](http://docs.lyricsovh.apiary.io/) in my examples below)"
   ]
  },
  {
   "cell_type": "markdown",
   "metadata": {},
   "source": [
    "Get some lyrics and write them to the variable *lyrics1*:"
   ]
  },
  {
   "cell_type": "code",
   "execution_count": 7,
   "metadata": {},
   "outputs": [
    {
     "name": "stderr",
     "output_type": "stream",
     "text": [
      "  % Total    % Received % Xferd  Average Speed   Time    Time     Time  Current\n",
      "                                 Dload  Upload   Total   Spent    Left  Speed\n",
      "\r",
      "  0     0    0     0    0     0      0      0 --:--:-- --:--:-- --:--:--     0\r",
      "  0     0    0     0    0     0      0      0 --:--:-- --:--:-- --:--:--     0\r",
      "  0     0    0     0    0     0      0      0 --:--:--  0:00:01 --:--:--     0\r",
      "  0     0    0     0    0     0      0      0 --:--:--  0:00:02 --:--:--     0\r",
      "  0     0    0     0    0     0      0      0 --:--:--  0:00:03 --:--:--     0\r",
      "  0     0    0     0    0     0      0      0 --:--:--  0:00:04 --:--:--     0\r",
      "  0     0    0     0    0     0      0      0 --:--:--  0:00:05 --:--:--     0\r",
      " 94   843   94   793    0     0    119      0  0:00:07  0:00:06  0:00:01   160\r",
      "100   843  100   843    0     0    126      0  0:00:06  0:00:06 --:--:--   213\n"
     ]
    }
   ],
   "source": [
    "%%bash --out lyrics1\n",
    "curl https://private-anon-cd823708f8-lyricsovh.apiary-proxy.com/v1/the%20beatles/here%20comes%20the%20sun"
   ]
  },
  {
   "cell_type": "code",
   "execution_count": 8,
   "metadata": {},
   "outputs": [
    {
     "data": {
      "text/plain": [
       "'{\"lyrics\":\"Here comes the sun\\\\nHere comes the sun\\\\nAnd I say\\\\nIt\\'s all right\\\\n\\\\nLittle darlin\\'\\\\nIt\\'s been a long cold lonely winter\\\\nLittle darlin\\'\\\\nIt feels like years since it\\'s been here\\\\nHere comes the sun\\\\nHere comes the sun, and I say\\\\nIt\\'s all right\\\\n\\\\nLittle darlin\\'\\\\nThe smiles returning to their faces\\\\nLittle darlin\\'\\\\nIt seems like years since it\\'s been here\\\\nHere comes the sun\\\\nHere comes the sun, and I say\\\\nIt\\'s all right\\\\n\\\\nSun, sun, sun, here it comes\\\\nSun, sun, sun, here it comes\\\\nSun, sun, sun, here it comes\\\\nSun, sun, sun, here it comes\\\\nSun, sun, sun, here it comes\\\\n\\\\nLittle darlin\\'\\\\nI feel that ice is slowly melting\\\\nLittle darlin\\'\\\\nIt seems like years since it\\'s been clear\\\\nHere comes the sun\\\\nHere comes the sun, and I say\\\\nIt\\'s all right\\\\n\\\\nHere comes the sun\\\\nHere comes the sun\\\\nIt\\'s all right\\\\nIt\\'s all right\"}'"
      ]
     },
     "execution_count": 8,
     "metadata": {},
     "output_type": "execute_result"
    }
   ],
   "source": [
    "lyrics1"
   ]
  },
  {
   "cell_type": "markdown",
   "metadata": {},
   "source": [
    "Interestingly, *lyrics1* is typed as a string even though it's really a JSON object:"
   ]
  },
  {
   "cell_type": "code",
   "execution_count": 9,
   "metadata": {},
   "outputs": [
    {
     "data": {
      "text/plain": [
       "str"
      ]
     },
     "execution_count": 9,
     "metadata": {},
     "output_type": "execute_result"
    }
   ],
   "source": [
    "type(lyrics1)"
   ]
  },
  {
   "cell_type": "markdown",
   "metadata": {},
   "source": [
    "Fortunately, the *json.loads* function can make easy work of this string:"
   ]
  },
  {
   "cell_type": "code",
   "execution_count": 14,
   "metadata": {},
   "outputs": [
    {
     "name": "stdout",
     "output_type": "stream",
     "text": [
      "Here comes the sun\n",
      "Here comes the sun\n",
      "And I say\n",
      "It's all right\n",
      "\n",
      "Little darlin'\n",
      "It's been a long cold lonely winter\n",
      "Little darlin'\n",
      "It feels like years since it's been here\n",
      "Here comes the sun\n",
      "Here comes the sun, and I say\n",
      "It's all right\n",
      "\n",
      "Little darlin'\n",
      "The smiles returning to their faces\n",
      "Little darlin'\n",
      "It seems like years since it's been here\n",
      "Here comes the sun\n",
      "Here comes the sun, and I say\n",
      "It's all right\n",
      "\n",
      "Sun, sun, sun, here it comes\n",
      "Sun, sun, sun, here it comes\n",
      "Sun, sun, sun, here it comes\n",
      "Sun, sun, sun, here it comes\n",
      "Sun, sun, sun, here it comes\n",
      "\n",
      "Little darlin'\n",
      "I feel that ice is slowly melting\n",
      "Little darlin'\n",
      "It seems like years since it's been clear\n",
      "Here comes the sun\n",
      "Here comes the sun, and I say\n",
      "It's all right\n",
      "\n",
      "Here comes the sun\n",
      "Here comes the sun\n",
      "It's all right\n",
      "It's all right\n"
     ]
    }
   ],
   "source": [
    "import json\n",
    "json_lyrics1 = json.loads(lyrics1)\n",
    "print(json_lyrics1['lyrics'])"
   ]
  },
  {
   "cell_type": "markdown",
   "metadata": {},
   "source": [
    "So, what if you need to call your bash commands multiple times, say in a loop?  Well, here's one hack I came up with: do in-line calls to the [shell](https://ipython.readthedocs.io/en/stable/interactive/python-ipython-diff.html#shell-assignment)."
   ]
  },
  {
   "cell_type": "code",
   "execution_count": 17,
   "metadata": {},
   "outputs": [
    {
     "data": {
      "text/plain": [
       "[['{\"lyrics\":\"Yesterday\\\\nAll my troubles seemed so far away\\\\nNow it looks as though they\\'re here to stay\\\\nOh, I believe in yesterday\\\\n\\\\nSuddenly\\\\nI\\'m not half the man I used to be\\\\nThere\\'s a shadow hanging over me\\\\nOh, yesterday came suddenly\\\\n\\\\nWhy she had to go, I don\\'t know\\\\nShe wouldn\\'t say\\\\nI said something wrong\\\\nNow I long for yesterday\\\\n\\\\nYesterday\\\\nLove was such an easy game to play\\\\nNow I need a place to hide away\\\\nOh, I believe in yesterday\\\\n\\\\nWhy she had to go, I don\\'t know\\\\nShe wouldn\\'t say\\\\nI said something wrong\\\\nNow I long for yesterday\\\\n\\\\nYesterday\\\\nLove was such an easy game to play\\\\nNow I need a place to hide away\\\\nOh, I believe in yesterday\"}'],\n",
       " ['{\"lyrics\":\"In the town where I was born\\\\nLived a man who sailed to sea\\\\nAnd he told us of his life\\\\nIn the land of submarines\\\\nSo we sailed on to the sun\\\\nTill we found a sea of green\\\\nAnd we lived beneath the waves\\\\nIn our yellow submarine\\\\n\\\\nWe all live in a yellow submarine\\\\nYellow submarine, yellow submarine\\\\nWe all live in a yellow submarine\\\\nYellow submarine, yellow submarine\\\\n\\\\nAnd our friends are all aboard\\\\nMany more of them live next door\\\\nAnd the band begins to play\\\\n\\\\nWe all live in a yellow submarine\\\\nYellow submarine, yellow submarine\\\\nWe all live in a yellow submarine\\\\nYellow submarine, yellow submarine\\\\n\\\\nFull steam ahead, Mr. Boatswain, full steam ahead\\\\nFull steam ahead it is, Sergeant\\\\nCut the cable! Drop the cable!\\\\nAye-aye, sir, aye-aye\\\\nCaptain, captain\\\\n\\\\nAs we live a life of ease (a life of ease)\\\\nEvery one of us (every one of us) has all we need (has all we need)\\\\nSky of blue (sky of blue) and sea of green (sea of green)\\\\nIn our yellow (in our yellow) submarine (submarine, ha-ha!)\\\\n\\\\nWe all live in a yellow submarine\\\\nA yellow submarine, yellow submarine\\\\nWe all live in a yellow submarine\\\\nA yellow submarine, yellow submarine\\\\nWe all live in a yellow submarine\\\\nYellow submarine, yellow submarine\\\\nWe all live in a yellow submarine\\\\nYellow submarine, yellow submarine\"}'],\n",
       " ['{\"lyrics\":\"Ah, look at all the lonely people\\\\nAh, look at all the lonely people\\\\n\\\\nEleanor Rigby\\\\nPicks up the rice in the church where a wedding has been\\\\nLives in a dream\\\\nWaits at the window\\\\nWearing a face that she keeps in a jar by the door\\\\nWho is it for?\\\\n\\\\nAll the lonely people\\\\nWhere do they all come from?\\\\nAll the lonely people\\\\nWhere do they all belong?\\\\n\\\\nFather McKenzie\\\\nWriting the words of a sermon that no one will hear\\\\nNo one comes near\\\\nLook at him working\\\\nDarning his socks in the night when there\\'s nobody there\\\\nWhat does he care?\\\\n\\\\nAll the lonely people\\\\nWhere do they all come from?\\\\nAll the lonely people\\\\nWhere do they all belong?\\\\n\\\\nAh, look at all the lonely people\\\\nAh, look at all the lonely people\\\\n\\\\nEleanor Rigby\\\\nDied in the church and was buried along with her name\\\\nNobody came\\\\nFather McKenzie\\\\nWiping the dirt from his hands as he walks from the grave\\\\nNo one was saved\\\\n\\\\nAll the lonely people (Ah, look at all the lonely people)\\\\nWhere do they all come from?\\\\nAll the lonely people (Ah, look at all the lonely people)\\\\nWhere do they all belong?\"}']]"
      ]
     },
     "execution_count": 17,
     "metadata": {},
     "output_type": "execute_result"
    }
   ],
   "source": [
    "song_list = ['yesterday', 'yellow%20submarine', 'eleanor%20rigby']\n",
    "song_lyrics = []\n",
    "\n",
    "for song in song_list:\n",
    "    lyric = !wsl curl -s 'https://private-anon-cd823708f8-lyricsovh.apiary-proxy.com/v1/the%20beatles/{song}'\n",
    "    song_lyrics.append(lyric)\n",
    "    \n",
    "song_lyrics"
   ]
  },
  {
   "cell_type": "markdown",
   "metadata": {},
   "source": [
    "Here are a few things to note with my shell operation:\n",
    " - Since my operating system is Windows 10, I'm actually shelling out to the Windows command shell, not bash.  However, since I have [WSL](https://docs.microsoft.com/en-us/windows/wsl/faq) installed on my machine, I can use [wsl.exe](https://docs.microsoft.com/en-us/windows/wsl/interop) to run commands in that shell.  So, I calling a shell within a shell to ultimately execute my bash command.\n",
    " - With the braces syntax, I can pass the value of my *song* variable to my shell command.\n",
    " - I pass the *silent* argument (-s) to cURL to suppress the noise cURL would normally send back to Jupyter Notebook.  This allows me to pass just the JSON response to my variable *lyric*."
   ]
  },
  {
   "cell_type": "markdown",
   "metadata": {},
   "source": [
    "Let's take a closer look of what my shell commands return:"
   ]
  },
  {
   "cell_type": "code",
   "execution_count": 18,
   "metadata": {},
   "outputs": [
    {
     "data": {
      "text/plain": [
       "IPython.utils.text.SList"
      ]
     },
     "execution_count": 18,
     "metadata": {},
     "output_type": "execute_result"
    }
   ],
   "source": [
    "type(song_lyrics[0])"
   ]
  },
  {
   "cell_type": "markdown",
   "metadata": {},
   "source": [
    "Interesting.  Unlike the *string* type that the *bash* magic command returned, the shell command returned a [SList](https://ipython.readthedocs.io/en/stable/api/generated/IPython.utils.text.html#IPython.utils.text.SList).  Basically, a list of strings.  I should be able to join those lists together, though, and then convert them to JSON with the loads function:"
   ]
  },
  {
   "cell_type": "code",
   "execution_count": 19,
   "metadata": {},
   "outputs": [
    {
     "data": {
      "text/plain": [
       "[{'lyrics': \"Yesterday\\nAll my troubles seemed so far away\\nNow it looks as though they're here to stay\\nOh, I believe in yesterday\\n\\nSuddenly\\nI'm not half the man I used to be\\nThere's a shadow hanging over me\\nOh, yesterday came suddenly\\n\\nWhy she had to go, I don't know\\nShe wouldn't say\\nI said something wrong\\nNow I long for yesterday\\n\\nYesterday\\nLove was such an easy game to play\\nNow I need a place to hide away\\nOh, I believe in yesterday\\n\\nWhy she had to go, I don't know\\nShe wouldn't say\\nI said something wrong\\nNow I long for yesterday\\n\\nYesterday\\nLove was such an easy game to play\\nNow I need a place to hide away\\nOh, I believe in yesterday\"},\n",
       " {'lyrics': 'In the town where I was born\\nLived a man who sailed to sea\\nAnd he told us of his life\\nIn the land of submarines\\nSo we sailed on to the sun\\nTill we found a sea of green\\nAnd we lived beneath the waves\\nIn our yellow submarine\\n\\nWe all live in a yellow submarine\\nYellow submarine, yellow submarine\\nWe all live in a yellow submarine\\nYellow submarine, yellow submarine\\n\\nAnd our friends are all aboard\\nMany more of them live next door\\nAnd the band begins to play\\n\\nWe all live in a yellow submarine\\nYellow submarine, yellow submarine\\nWe all live in a yellow submarine\\nYellow submarine, yellow submarine\\n\\nFull steam ahead, Mr. Boatswain, full steam ahead\\nFull steam ahead it is, Sergeant\\nCut the cable! Drop the cable!\\nAye-aye, sir, aye-aye\\nCaptain, captain\\n\\nAs we live a life of ease (a life of ease)\\nEvery one of us (every one of us) has all we need (has all we need)\\nSky of blue (sky of blue) and sea of green (sea of green)\\nIn our yellow (in our yellow) submarine (submarine, ha-ha!)\\n\\nWe all live in a yellow submarine\\nA yellow submarine, yellow submarine\\nWe all live in a yellow submarine\\nA yellow submarine, yellow submarine\\nWe all live in a yellow submarine\\nYellow submarine, yellow submarine\\nWe all live in a yellow submarine\\nYellow submarine, yellow submarine'},\n",
       " {'lyrics': \"Ah, look at all the lonely people\\nAh, look at all the lonely people\\n\\nEleanor Rigby\\nPicks up the rice in the church where a wedding has been\\nLives in a dream\\nWaits at the window\\nWearing a face that she keeps in a jar by the door\\nWho is it for?\\n\\nAll the lonely people\\nWhere do they all come from?\\nAll the lonely people\\nWhere do they all belong?\\n\\nFather McKenzie\\nWriting the words of a sermon that no one will hear\\nNo one comes near\\nLook at him working\\nDarning his socks in the night when there's nobody there\\nWhat does he care?\\n\\nAll the lonely people\\nWhere do they all come from?\\nAll the lonely people\\nWhere do they all belong?\\n\\nAh, look at all the lonely people\\nAh, look at all the lonely people\\n\\nEleanor Rigby\\nDied in the church and was buried along with her name\\nNobody came\\nFather McKenzie\\nWiping the dirt from his hands as he walks from the grave\\nNo one was saved\\n\\nAll the lonely people (Ah, look at all the lonely people)\\nWhere do they all come from?\\nAll the lonely people (Ah, look at all the lonely people)\\nWhere do they all belong?\"}]"
      ]
     },
     "execution_count": 19,
     "metadata": {},
     "output_type": "execute_result"
    }
   ],
   "source": [
    "song_list = ['yesterday', 'yellow%20submarine', 'eleanor%20rigby']\n",
    "song_lyrics = []\n",
    "\n",
    "for song in song_list:\n",
    "    lyric = !wsl curl -s 'https://private-anon-cd823708f8-lyricsovh.apiary-proxy.com/v1/the%20beatles/{song}'\n",
    "    json_lyrics = json.loads(''.join(lyric))\n",
    "    song_lyrics.append(json_lyrics)\n",
    "    \n",
    "song_lyrics"
   ]
  },
  {
   "cell_type": "markdown",
   "metadata": {},
   "source": [
    "Sweet!  So now I have a list of JSON objects for the song lyrics I want:"
   ]
  },
  {
   "cell_type": "code",
   "execution_count": 20,
   "metadata": {},
   "outputs": [
    {
     "name": "stdout",
     "output_type": "stream",
     "text": [
      "Yesterday\n",
      "All my troubles seemed so far away\n",
      "Now it looks as though they're here to stay\n",
      "Oh, I believe in yesterday\n",
      "\n",
      "Suddenly\n",
      "I'm not half the man I used to be\n",
      "There's a shadow hanging over me\n",
      "Oh, yesterday came suddenly\n",
      "\n",
      "Why she had to go, I don't know\n",
      "She wouldn't say\n",
      "I said something wrong\n",
      "Now I long for yesterday\n",
      "\n",
      "Yesterday\n",
      "Love was such an easy game to play\n",
      "Now I need a place to hide away\n",
      "Oh, I believe in yesterday\n",
      "\n",
      "Why she had to go, I don't know\n",
      "She wouldn't say\n",
      "I said something wrong\n",
      "Now I long for yesterday\n",
      "\n",
      "Yesterday\n",
      "Love was such an easy game to play\n",
      "Now I need a place to hide away\n",
      "Oh, I believe in yesterday\n"
     ]
    }
   ],
   "source": [
    "print(song_lyrics[0]['lyrics'])"
   ]
  },
  {
   "cell_type": "markdown",
   "metadata": {},
   "source": [
    "For more on the bash magic command, check out [this excellent article](http://mmcdan.github.io/posts/interacting-with-the-shell-via-jupyter-notebook/)."
   ]
  }
 ],
 "metadata": {
  "kernelspec": {
   "display_name": "Python 3",
   "language": "python",
   "name": "python3"
  },
  "language_info": {
   "codemirror_mode": {
    "name": "ipython",
    "version": 3
   },
   "file_extension": ".py",
   "mimetype": "text/x-python",
   "name": "python",
   "nbconvert_exporter": "python",
   "pygments_lexer": "ipython3",
   "version": "3.6.2"
  }
 },
 "nbformat": 4,
 "nbformat_minor": 2
}
