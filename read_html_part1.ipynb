{
 "cells": [
  {
   "cell_type": "markdown",
   "metadata": {},
   "source": [
    "<h1 style=\"text-align:center\">Pandas' read_html function, Part 1</h1>\n",
    "\n",
    "#### Recently, I asked a co-worker for a list of data on which I needed to work.  Instead of sending me his spreadsheet as an email attachment, he pasted his spreadsheet directly into the body of an email.  How in the world am I supposed to work with that?  [Pandas](https://pandas.pydata.org/) can help!  \n",
    "\n",
    "#### I saved his email out to disk as an HTML file.  Outlook converted his pasted spreadsheet into a [HTML table](https://www.w3schools.com/html/html_tables.asp).  Then, I just used Pandas' [read_html function](https://pandas.pydata.org/pandas-docs/version/0.23.4/generated/pandas.read_html.html) to read the HTML file.  It automatically found the table and converted it into a dataframe for me.  Problem solved!\n",
    "\n",
    "#### In the following example, I went around the Internet and copied some HTML tables of data into a single HTML file:\n",
    " - The current [Bundesliga standings](https://www.google.com/search?q=bundesliga+standings#sie=lg;/g/11f3znwcpd;2;/m/037169;st;fp;1;;)\n",
    " - The [top grossing films of 1980](https://www.boxofficemojo.com/yearly/chart/?yr=1980&p=.htm)\n",
    " - and the [last several spot prices for gold](https://markets.businessinsider.com/commodities/gold-price)\n",
    " \n",
    "#### Then, I simply loaded this file with Panda's read_html function.  It returned a list of three dataframes.  The dataframes could probably use some cleanup, but loading a dataframe directly from a HTML table is a pretty awesome time saver!"
   ]
  },
  {
   "cell_type": "code",
   "execution_count": 27,
   "metadata": {},
   "outputs": [
    {
     "name": "stdout",
     "output_type": "stream",
     "text": [
      "4\n",
      "   0     1                 2   3   4  5   6   7   8    9     10  11\n",
      "0 NaN  Club                MP   W   D  L  GF  GA  GD  Pts   NaN NaN\n",
      "1 NaN     1          Dortmund  21  15  5   1  54  23   31  50.0 NaN\n",
      "2 NaN     2            Bayern  21  14  3   4  47  24   23  45.0 NaN\n",
      "3 NaN     3  MÃ¶nchengladbach  21  13  3   5  41  21   20  42.0 NaN\n",
      "4 NaN     4        RB Leipzig  21  11  5   5  38  18   20  38.0 NaN\n",
      "                                                   0  \\\n",
      "0                                               Rank   \n",
      "1  FilterAFD AmCi Anls AVCO BV Can. Col. Emb Film...   \n",
      "2                                                  1   \n",
      "3                                                  2   \n",
      "4                                                  3   \n",
      "\n",
      "                             1  \\\n",
      "0  Movie Title (click to view)   \n",
      "1                          NaN   \n",
      "2      The Empire Strikes Back   \n",
      "3                       9 to 5   \n",
      "4                   Stir Crazy   \n",
      "\n",
      "                                                   2  \\\n",
      "0  Studio function MojoDrop1() { var number = doc...   \n",
      "1                                                NaN   \n",
      "2                                                Fox   \n",
      "3                                                Fox   \n",
      "4                                               Col.   \n",
      "\n",
      "                                                   3                       4  \\\n",
      "0  FilterAFD AmCi Anls AVCO BV Can. Col. Emb Film...  Total Gross / Theaters   \n",
      "1                                                NaN                     NaN   \n",
      "2                                       $209,398,025                    1278   \n",
      "3                                       $103,290,500                     NaN   \n",
      "4                                       $101,300,000                     NaN   \n",
      "\n",
      "                    5     6      7  \n",
      "0  Opening / Theaters  Open    NaN  \n",
      "1                 NaN   NaN    NaN  \n",
      "2          $4,910,483   126   5/21  \n",
      "3          $3,966,832   910  12/19  \n",
      "4          $8,691,886   813  12/12  \n",
      "                                                   0\n",
      "0  FilterAFD AmCi Anls AVCO BV Can. Col. Emb Film...\n",
      "            0              1        2           3          4\n",
      "0        Date  Closing Price     Open  Daily High  Daily Low\n",
      "1  02/08/2019        1314.93  1310.18     1315.73    1308.03\n",
      "2  02/07/2019        1300.13  1307.73     1311.88    1300.13\n",
      "3  02/06/2019        1306.58  1314.83     1315.93    1305.83\n",
      "4  02/05/2019        1322.38  1312.03     1322.38    1310.83\n"
     ]
    }
   ],
   "source": [
    "import pandas as pd\n",
    "\n",
    "list_of_dfs = pd.read_html('multiple_tables.html')\n",
    "\n",
    "print(len(list_of_dfs))\n",
    "for df in list_of_dfs:\n",
    "    print(df.head())"
   ]
  }
 ],
 "metadata": {
  "kernelspec": {
   "display_name": "Python 3",
   "language": "python",
   "name": "python3"
  },
  "language_info": {
   "codemirror_mode": {
    "name": "ipython",
    "version": 3
   },
   "file_extension": ".py",
   "mimetype": "text/x-python",
   "name": "python",
   "nbconvert_exporter": "python",
   "pygments_lexer": "ipython3",
   "version": "3.6.2"
  }
 },
 "nbformat": 4,
 "nbformat_minor": 2
}
