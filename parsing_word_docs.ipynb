{
 "cells": [
  {
   "cell_type": "markdown",
   "metadata": {},
   "source": [
    "# Parsing Microsoft Word Documents with Python\n",
    "Here's an example of using Python to parse out text from Microsoft Word documents."
   ]
  },
  {
   "cell_type": "code",
   "execution_count": 2,
   "metadata": {},
   "outputs": [],
   "source": [
    "import zipfile\n",
    "import xml.etree.ElementTree as ET"
   ]
  },
  {
   "cell_type": "markdown",
   "metadata": {},
   "source": [
    "Grab the text of the Word document (in XML format) and pass it to an ElementTree object:"
   ]
  },
  {
   "cell_type": "code",
   "execution_count": 3,
   "metadata": {},
   "outputs": [],
   "source": [
    "# nice reference: https://towardsdatascience.com/how-to-extract-data-from-ms-word-documents-using-python-ed3fbb48c122\n",
    "\n",
    "doc = zipfile.ZipFile('./data/test.docx').read('word/document.xml')\n",
    "root = ET.fromstring(doc)"
   ]
  },
  {
   "cell_type": "markdown",
   "metadata": {},
   "source": [
    "You can explore that XML like so:"
   ]
  },
  {
   "cell_type": "code",
   "execution_count": 16,
   "metadata": {},
   "outputs": [
    {
     "data": {
      "text/plain": [
       "b'<ns0:document xmlns:ns0=\"http://schemas.openxmlformats.org/wordprocessingml/2006/main\" xmlns:ns1=\"http://schemas.openxmlformats.org/markup-compatibility/2006\" xmlns:ns2=\"http://schemas.microsoft.com/office/word/2010/wordml\" ns1:Ignorable=\"w14 w15 w16se w16cid w16 w16cex w16sdtdh wp14\"><ns0:body><ns0:sdt><ns0:sdtPr><ns0:id ns0:val=\"658278343\" /><ns0:docPartObj><ns0:docPartGallery ns0:val=\"Table of Contents\" /><ns0:docPartUnique /></ns0:docPartObj></ns0:sdtPr><ns0:sdtEndPr><ns0:rPr><ns0:rFonts ns0:asciiTheme=\"minorHAnsi\" ns0:cstheme=\"minorBidi\" ns0:eastAsiaTheme=\"minorHAnsi\" ns0:hAnsiTheme=\"minorHAnsi\" /><ns0:b /><ns0:bCs /><ns0:noProof /><ns0:color ns0:val=\"auto\" /><ns0:sz ns0:val=\"22\" /><ns0:szCs ns0:val=\"22\" /></ns0:rPr></ns0:sdtEndPr><ns0:sdtContent><ns0:p ns2:paraId=\"45D59C77\" ns2:textId=\"79FA5DD6\" ns0:rsidR=\"00B608E9\" ns0:rsidRDefault=\"00B608E9\"><ns0:pPr><ns0:pStyle ns0:val=\"TOCHeading\" /></ns0:pPr><ns0:r><ns0:t>Contents</ns0:t></ns0:r></ns0:p><ns0:p ns2:paraId=\"21A637BF\" ns2:textId=\"2BEC69F9\" ns0:rsidR=\"00B608E9\" ns0:rsidRDefault=\"00B608E9\"><ns0:pPr><ns0:pStyle ns0:val=\"TOC1\" /><ns0:tabs><ns0:tab ns0:leader=\"dot\" ns0:pos=\"9350\" ns0:val=\"right\" /></ns0:tabs><ns0:rPr><ns0:noProof /></ns0:rPr></ns0:pPr><ns0:r><ns0:fldChar ns0:fldCharType=\"begin\" /></ns0:r><ns0:r><ns0:instrText xml:space=\"preserve\"> TOC \\\\o \"1-3\" \\\\h \\\\z \\\\u </ns0:instrText></ns0:r><ns0:r><ns0:fldChar ns0:fldCharType=\"separate\" /></ns0:r><ns0:hyperlink ns0:anchor=\"_Toc94376598\" ns0:history=\"1\"><ns0:r ns0:rsidRPr=\"00B101CA\"><ns0:rPr><ns0:rStyle ns0:val=\"Hyperlink\" /><ns0:noProof /></ns0:rPr><ns0:t>Overview</ns0:t></ns0:r><ns0:r><ns0:rPr><ns0:noProof /><ns0:webHidden /></ns0:rPr><ns0:tab /></ns0:r><ns0:r><ns0:rPr><ns0:noProof /><ns0:webHidden /></ns0:rPr><ns0:fldChar ns0:fldCharType=\"begin\" /></ns0:r><ns0:r><ns0:rPr><ns0:noProof /><ns0:webHidden /></ns0:rPr><ns0:instrText xml:space=\"preserve\"> PAGEREF _Toc94376598 \\\\h </ns0:instrText></ns0:r><ns0:r><ns0:rPr><ns0:noProof /><ns0:webHidden /></ns0:rPr></ns0:r><ns0:r><ns0:rPr><ns0:noProof /><ns0:webHidden /></ns0:rPr><ns0:fldChar ns0:fldCharType=\"separate\" /></ns0:r><ns0:r><ns0:rPr><ns0:noProof /><ns0:webHidden /></ns0:rPr><ns0:t>2</ns0:t></ns0:r><ns0:r><ns0:rPr><ns0:noProof /><ns0:webHidden /></ns0:rPr><ns0:fldChar ns0:fldCharType=\"end\" /></ns0:r></ns0:hyperlink></ns0:p><ns0:p ns2:paraId=\"00B54DA4\" ns2:textId=\"77FF0571\" ns0:rsidR=\"00B608E9\" ns0:rsidRDefault=\"00B608E9\"><ns0:pPr><ns0:pStyle ns0:val=\"TOC1\" /><ns0:tabs><ns0:tab ns0:leader=\"dot\" ns0:pos=\"9350\" ns0:val=\"right\" /></ns0:tabs><ns0:rPr><ns0:noProof /></ns0:rPr></ns0:pPr><ns0:hyperlink ns0:anchor=\"_Toc94376599\" ns0:history=\"1\"><ns0:r ns0:rsidRPr=\"00B101CA\"><ns0:rPr><ns0:rStyle ns0:val=\"Hyperlink\" /><ns0:noProof /></ns0:rPr><ns0:t>Main Section</ns0:t></ns0:r><ns0:r><ns0:rPr><ns0:noProof /><ns0:webHidden /></ns0:rPr><ns0:tab /></ns0:r><ns0:r><ns0:rPr><ns0:noProof /><ns0:webHidden /></ns0:rPr><ns0:fldChar ns0:fldCharType=\"begin\" /></ns0:r><ns0:r><ns0:rPr><ns0:noProof /><ns0:webHidden /></ns0:rPr><ns0:instrText xml:space=\"preserve\"> PAGEREF _Toc94376599 \\\\h </ns0:instrText></ns0:r><ns0:r><ns0:rPr><ns0:noProof /><ns0:webHidden /></ns0:rPr></ns0:r><ns0:r><ns0:rPr><ns0:noProof /><ns0:webHidden /></ns0:rPr><ns0:fldChar ns0:fldCharType=\"separate\" /></ns0:r><ns0:r><ns0:rPr><ns0:noProof /><ns0:webHidden /></ns0:rPr><ns0:t>2</ns0:t></ns0:r><ns0:r><ns0:rPr><ns0:noProof /><ns0:webHidden /></ns0:rPr><ns0:fldChar ns0:fldCharType=\"end\" /></ns0:r></ns0:hyperlink></ns0:p><ns0:p ns2:paraId=\"46704958\" ns2:textId=\"0BD2A6DA\" ns0:rsidR=\"00B608E9\" ns0:rsidRDefault=\"00B608E9\"><ns0:pPr><ns0:pStyle ns0:val=\"TOC2\" /><ns0:tabs><ns0:tab ns0:leader=\"dot\" ns0:pos=\"9350\" ns0:val=\"right\" /></ns0:tabs><ns0:rPr><ns0:noProof /></ns0:rPr></ns0:pPr><ns0:hyperlink ns0:anchor=\"_Toc94376600\" ns0:history=\"1\"><ns0:r ns0:rsidRPr=\"00B101CA\"><ns0:rPr><ns0:rStyle ns0:val=\"Hyperlink\" /><ns0:noProof /></ns0:rPr><ns0:t>Sub-Section 1</ns0:t></ns0:r><ns0:r><ns0:rPr><ns0:noProof /><ns0:webHidden /></ns0:rPr><ns0:tab /></ns0:r><ns0:r><ns0:rPr><ns0:noProof /><ns0:webHidden /></ns0:rPr><ns0:fldChar ns0:fldCharType=\"begin\" /></ns0:r><ns0:r><ns0:rPr><ns0:noProof /><ns0:webHidden /></ns0:rPr><ns0:instrText xml:space=\"preserve\"> PAGEREF _Toc94376600 \\\\h </ns0:instrText></ns0:r><ns0:r><ns0:rPr><ns0:noProof /><ns0:webHidden /></ns0:rPr></ns0:r><ns0:r><ns0:rPr><ns0:noProof /><ns0:webHidden /></ns0:rPr><ns0:fldChar ns0:fldCharType=\"separate\" /></ns0:r><ns0:r><ns0:rPr><ns0:noProof /><ns0:webHidden /></ns0:rPr><ns0:t>2</ns0:t></ns0:r><ns0:r><ns0:rPr><ns0:noProof /><ns0:webHidden /></ns0:rPr><ns0:fldChar ns0:fldCharType=\"end\" /></ns0:r></ns0:hyperlink></ns0:p><ns0:p ns2:paraId=\"5CBA9AB9\" ns2:textId=\"00EA8456\" ns0:rsidR=\"00B608E9\" ns0:rsidRDefault=\"00B608E9\"><ns0:pPr><ns0:pStyle ns0:val=\"TOC2\" /><ns0:tabs><ns0:tab ns0:leader=\"dot\" ns0:pos=\"9350\" ns0:val=\"right\" /></ns0:tabs><ns0:rPr><ns0:noProof /></ns0:rPr></ns0:pPr><ns0:hyperlink ns0:anchor=\"_Toc94376601\" ns0:history=\"1\"><ns0:r ns0:rsidRPr=\"00B101CA\"><ns0:rPr><ns0:rStyle ns0:val=\"Hyperlink\" /><ns0:noProof /></ns0:rPr><ns0:t>Sub-Section 2</ns0:t></ns0:r><ns0:r><ns0:rPr><ns0:noProof /><ns0:webHidden /></ns0:rPr><ns0:tab /></ns0:r><ns0:r><ns0:rPr><ns0:noProof /><ns0:webHidden /></ns0:rPr><ns0:fldChar ns0:fldCharType=\"begin\" /></ns0:r><ns0:r><ns0:rPr><ns0:noProof /><ns0:webHidden /></ns0:rPr><ns0:instrText xml:space=\"preserve\"> PAGEREF _Toc94376601 \\\\h </ns0:instrText></ns0:r><ns0:r><ns0:rPr><ns0:noProof /><ns0:webHidden /></ns0:rPr></ns0:r><ns0:r><ns0:rPr><ns0:noProof /><ns0:webHidden /></ns0:rPr><ns0:fldChar ns0:fldCharType=\"separate\" /></ns0:r><ns0:r><ns0:rPr><ns0:noProof /><ns0:webHidden /></ns0:rPr><ns0:t>2</ns0:t></ns0:r><ns0:r><ns0:rPr><ns0:noProof /><ns0:webHidden /></ns0:rPr><ns0:fldChar ns0:fldCharType=\"end\" /></ns0:r></ns0:hyperlink></ns0:p><ns0:p ns2:paraId=\"7DCE83C5\" ns2:textId=\"53C14D9F\" ns0:rsidR=\"00B608E9\" ns0:rsidRDefault=\"00B608E9\"><ns0:pPr><ns0:pStyle ns0:val=\"TOC2\" /><ns0:tabs><ns0:tab ns0:leader=\"dot\" ns0:pos=\"9350\" ns0:val=\"right\" /></ns0:tabs><ns0:rPr><ns0:noProof /></ns0:rPr></ns0:pPr><ns0:hyperlink ns0:anchor=\"_Toc94376602\" ns0:history=\"1\"><ns0:r ns0:rsidRPr=\"00B101CA\"><ns0:rPr><ns0:rStyle ns0:val=\"Hyperlink\" /><ns0:noProof /></ns0:rPr><ns0:t>Sub-Section 3</ns0:t></ns0:r><ns0:r><ns0:rPr><ns0:noProof /><ns0:webHidden /></ns0:rPr><ns0:tab /></ns0:r><ns0:r><ns0:rPr><ns0:noProof /><ns0:webHidden /></ns0:rPr><ns0:fldChar ns0:fldCharType=\"begin\" /></ns0:r><ns0:r><ns0:rPr><ns0:noProof /><ns0:webHidden /></ns0:rPr><ns0:instrText xml:space=\"preserve\"> PAGEREF _Toc94376602 \\\\h </ns0:instrText></ns0:r><ns0:r><ns0:rPr><ns0:noProof /><ns0:webHidden /></ns0:rPr></ns0:r><ns0:r><ns0:rPr><ns0:noProof /><ns0:webHidden /></ns0:rPr><ns0:fldChar ns0:fldCharType=\"separate\" /></ns0:r><ns0:r><ns0:rPr><ns0:noProof /><ns0:webHidden /></ns0:rPr><ns0:t>2</ns0:t></ns0:r><ns0:r><ns0:rPr><ns0:noProof /><ns0:webHidden /></ns0:rPr><ns0:fldChar ns0:fldCharType=\"end\" /></ns0:r></ns0:hyperlink></ns0:p><ns0:p ns2:paraId=\"76A2113A\" ns2:textId=\"390B2787\" ns0:rsidR=\"00B608E9\" ns0:rsidRDefault=\"00B608E9\"><ns0:pPr><ns0:pStyle ns0:val=\"TOC1\" /><ns0:tabs><ns0:tab ns0:leader=\"dot\" ns0:pos=\"9350\" ns0:val=\"right\" /></ns0:tabs><ns0:rPr><ns0:noProof /></ns0:rPr></ns0:pPr><ns0:hyperlink ns0:anchor=\"_Toc94376603\" ns0:history=\"1\"><ns0:r ns0:rsidRPr=\"00B101CA\"><ns0:rPr><ns0:rStyle ns0:val=\"Hyperlink\" /><ns0:noProof /></ns0:rPr><ns0:t>Appendix</ns0:t></ns0:r><ns0:r><ns0:rPr><ns0:noProof /><ns0:webHidden /></ns0:rPr><ns0:tab /></ns0:r><ns0:r><ns0:rPr><ns0:noProof /><ns0:webHidden /></ns0:rPr><ns0:fldChar ns0:fldCharType=\"begin\" /></ns0:r><ns0:r><ns0:rPr><ns0:noProof /><ns0:webHidden /></ns0:rPr><ns0:instrText xml:space=\"preserve\"> PAGEREF _Toc94376603 \\\\h </ns0:instrText></ns0:r><ns0:r><ns0:rPr><ns0:noProof /><ns0:webHidden /></ns0:rPr></ns0:r><ns0:r><ns0:rPr><ns0:noProof /><ns0:webHidden /></ns0:rPr><ns0:fldChar ns0:fldCharType=\"separate\" /></ns0:r><ns0:r><ns0:rPr><ns0:noProof /><ns0:webHidden /></ns0:rPr><ns0:t>2</ns0:t></ns0:r><ns0:r><ns0:rPr><ns0:noProof /><ns0:webHidden /></ns0:rPr><ns0:fldChar ns0:fldCharType=\"end\" /></ns0:r></ns0:hyperlink></ns0:p><ns0:p ns2:paraId=\"2EE04D49\" ns2:textId=\"7BF826ED\" ns0:rsidR=\"00B608E9\" ns0:rsidRDefault=\"00B608E9\"><ns0:r><ns0:rPr><ns0:b /><ns0:bCs /><ns0:noProof /></ns0:rPr><ns0:fldChar ns0:fldCharType=\"end\" /></ns0:r></ns0:p></ns0:sdtContent></ns0:sdt><ns0:p ns2:paraId=\"0B6BFDCF\" ns2:textId=\"77777777\" ns0:rsidR=\"00D608AE\" ns0:rsidRDefault=\"00D608AE\"><ns0:r><ns0:br ns0:type=\"page\" /></ns0:r></ns0:p><ns0:p ns2:paraId=\"613CB6C1\" ns2:textId=\"7A0776F8\" ns0:rsidP=\"00D608AE\" ns0:rsidR=\"00D608AE\" ns0:rsidRDefault=\"00D608AE\"><ns0:pPr><ns0:pStyle ns0:val=\"Heading1\" /></ns0:pPr><ns0:bookmarkStart ns0:id=\"0\" ns0:name=\"_Toc94376598\" /><ns0:r><ns0:lastRenderedPageBreak /><ns0:t>Overview</ns0:t></ns0:r><ns0:bookmarkEnd ns0:id=\"0\" /></ns0:p><ns0:p ns2:paraId=\"4174E4D7\" ns2:textId=\"6AA38C58\" ns0:rsidP=\"00D608AE\" ns0:rsidR=\"00D608AE\" ns0:rsidRDefault=\"00D608AE\"><ns0:pPr><ns0:pStyle ns0:val=\"NoSpacing\" /></ns0:pPr><ns0:r><ns0:t xml:space=\"preserve\">Some sort of document overview.  </ns0:t></ns0:r><ns0:r ns0:rsidRPr=\"00D608AE\"><ns0:t xml:space=\"preserve\">Lorem ipsum dolor sit </ns0:t></ns0:r><ns0:proofErr ns0:type=\"spellStart\" /><ns0:r ns0:rsidRPr=\"00D608AE\"><ns0:t>amet</ns0:t></ns0:r><ns0:proofErr ns0:type=\"spellEnd\" /><ns0:r ns0:rsidRPr=\"00D608AE\"><ns0:t xml:space=\"preserve\">, </ns0:t></ns0:r><ns0:proofErr ns0:type=\"spellStart\" /><ns0:r ns0:rsidRPr=\"00D608AE\"><ns0:t>consectetur</ns0:t></ns0:r><ns0:proofErr ns0:type=\"spellEnd\" /><ns0:r ns0:rsidRPr=\"00D608AE\"><ns0:t xml:space=\"preserve\"> </ns0:t></ns0:r><ns0:proofErr ns0:type=\"spellStart\" /><ns0:r ns0:rsidRPr=\"00D608AE\"><ns0:t>adipiscing</ns0:t></ns0:r><ns0:proofErr ns0:type=\"spellEnd\" /><ns0:r ns0:rsidRPr=\"00D608AE\"><ns0:t xml:space=\"preserve\"> </ns0:t></ns0:r><ns0:proofErr ns0:type=\"spellStart\" /><ns0:r ns0:rsidRPr=\"00D608AE\"><ns0:t>elit</ns0:t></ns0:r><ns0:proofErr ns0:type=\"spellEnd\" /><ns0:r ns0:rsidRPr=\"00D608AE\"><ns0:t xml:space=\"preserve\">. Integer id </ns0:t></ns0:r><ns0:proofErr ns0:type=\"spellStart\" /><ns0:r ns0:rsidRPr=\"00D608AE\"><ns0:t>tellus</ns0:t></ns0:r><ns0:proofErr ns0:type=\"spellEnd\" /><ns0:r ns0:rsidRPr=\"00D608AE\"><ns0:t xml:space=\"preserve\"> </ns0:t></ns0:r><ns0:proofErr ns0:type=\"spellStart\" /><ns0:r ns0:rsidRPr=\"00D608AE\"><ns0:t>facilisis</ns0:t></ns0:r><ns0:proofErr ns0:type=\"spellEnd\" /><ns0:r ns0:rsidRPr=\"00D608AE\"><ns0:t xml:space=\"preserve\">, </ns0:t></ns0:r><ns0:proofErr ns0:type=\"spellStart\" /><ns0:r ns0:rsidRPr=\"00D608AE\"><ns0:t>bibendum</ns0:t></ns0:r><ns0:proofErr ns0:type=\"spellEnd\" /><ns0:r ns0:rsidRPr=\"00D608AE\"><ns0:t xml:space=\"preserve\"> </ns0:t></ns0:r><ns0:proofErr ns0:type=\"spellStart\" /><ns0:r ns0:rsidRPr=\"00D608AE\"><ns0:t>tellus</ns0:t></ns0:r><ns0:proofErr ns0:type=\"spellEnd\" /><ns0:r ns0:rsidRPr=\"00D608AE\"><ns0:t xml:space=\"preserve\"> </ns0:t></ns0:r><ns0:proofErr ns0:type=\"spellStart\" /><ns0:r ns0:rsidRPr=\"00D608AE\"><ns0:t>quis</ns0:t></ns0:r><ns0:proofErr ns0:type=\"spellEnd\" /><ns0:r ns0:rsidRPr=\"00D608AE\"><ns0:t xml:space=\"preserve\">, </ns0:t></ns0:r><ns0:proofErr ns0:type=\"spellStart\" /><ns0:r ns0:rsidRPr=\"00D608AE\"><ns0:t>luctus</ns0:t></ns0:r><ns0:proofErr ns0:type=\"spellEnd\" /><ns0:r ns0:rsidRPr=\"00D608AE\"><ns0:t xml:space=\"preserve\"> </ns0:t></ns0:r><ns0:proofErr ns0:type=\"spellStart\" /><ns0:r ns0:rsidRPr=\"00D608AE\"><ns0:t>elit</ns0:t></ns0:r><ns0:proofErr ns0:type=\"spellEnd\" /><ns0:r ns0:rsidRPr=\"00D608AE\"><ns0:t xml:space=\"preserve\">. </ns0:t></ns0:r><ns0:proofErr ns0:type=\"spellStart\" /><ns0:r ns0:rsidRPr=\"00D608AE\"><ns0:t>Phasellus</ns0:t></ns0:r><ns0:proofErr ns0:type=\"spellEnd\" /><ns0:r ns0:rsidRPr=\"00D608AE\"><ns0:t xml:space=\"preserve\"> </ns0:t></ns0:r><ns0:proofErr ns0:type=\"spellStart\" /><ns0:r ns0:rsidRPr=\"00D608AE\"><ns0:t>erat</ns0:t></ns0:r><ns0:proofErr ns0:type=\"spellEnd\" /><ns0:r ns0:rsidRPr=\"00D608AE\"><ns0:t xml:space=\"preserve\"> </ns0:t></ns0:r><ns0:proofErr ns0:type=\"spellStart\" /><ns0:r ns0:rsidRPr=\"00D608AE\"><ns0:t>quam</ns0:t></ns0:r><ns0:proofErr ns0:type=\"spellEnd\" /><ns0:r ns0:rsidRPr=\"00D608AE\"><ns0:t xml:space=\"preserve\">, </ns0:t></ns0:r><ns0:proofErr ns0:type=\"spellStart\" /><ns0:r ns0:rsidRPr=\"00D608AE\"><ns0:t>tincidunt</ns0:t></ns0:r><ns0:proofErr ns0:type=\"spellEnd\" /><ns0:r ns0:rsidRPr=\"00D608AE\"><ns0:t xml:space=\"preserve\"> sed </ns0:t></ns0:r><ns0:proofErr ns0:type=\"spellStart\" /><ns0:r ns0:rsidRPr=\"00D608AE\"><ns0:t>sem</ns0:t></ns0:r><ns0:proofErr ns0:type=\"spellEnd\" /><ns0:r ns0:rsidRPr=\"00D608AE\"><ns0:t xml:space=\"preserve\"> at, fermentum </ns0:t></ns0:r><ns0:proofErr ns0:type=\"spellStart\" /><ns0:r ns0:rsidRPr=\"00D608AE\"><ns0:t>egestas</ns0:t></ns0:r><ns0:proofErr ns0:type=\"spellEnd\" /><ns0:r ns0:rsidRPr=\"00D608AE\"><ns0:t xml:space=\"preserve\"> est.</ns0:t></ns0:r></ns0:p><ns0:p ns2:paraId=\"24EC338D\" ns2:textId=\"148273AE\" ns0:rsidP=\"00D608AE\" ns0:rsidR=\"00D608AE\" ns0:rsidRDefault=\"00D608AE\"><ns0:pPr><ns0:pStyle ns0:val=\"NoSpacing\" /></ns0:pPr></ns0:p><ns0:p ns2:paraId=\"6B9C8A50\" ns2:textId=\"6F73106D\" ns0:rsidP=\"00D608AE\" ns0:rsidR=\"00D608AE\" ns0:rsidRDefault=\"00D608AE\"><ns0:pPr><ns0:pStyle ns0:val=\"NoSpacing\" /></ns0:pPr></ns0:p><ns0:p ns2:paraId=\"2C4A1F0F\" ns2:textId=\"4FE8EEF9\" ns0:rsidP=\"00D608AE\" ns0:rsidR=\"00D608AE\" ns0:rsidRDefault=\"00D608AE\"><ns0:pPr><ns0:pStyle ns0:val=\"Heading1\" /></ns0:pPr><ns0:bookmarkStart ns0:id=\"1\" ns0:name=\"_Toc94376599\" /><ns0:r><ns0:t>Main Section</ns0:t></ns0:r><ns0:bookmarkEnd ns0:id=\"1\" /></ns0:p><ns0:p ns2:paraId=\"3624A88A\" ns2:textId=\"6E76F330\" ns0:rsidP=\"00D608AE\" ns0:rsidR=\"00D608AE\" ns0:rsidRDefault=\"00D608AE\"><ns0:pPr><ns0:pStyle ns0:val=\"Heading2\" /></ns0:pPr><ns0:bookmarkStart ns0:id=\"2\" ns0:name=\"_Toc94376600\" /><ns0:r><ns0:t>Sub-Section 1</ns0:t></ns0:r><ns0:bookmarkEnd ns0:id=\"2\" /></ns0:p><ns0:p ns2:paraId=\"645C75CA\" ns2:textId=\"01ABEBF1\" ns0:rsidP=\"00D608AE\" ns0:rsidR=\"00D608AE\" ns0:rsidRDefault=\"00B608E9\"><ns0:pPr><ns0:pStyle ns0:val=\"NoSpacing\" /></ns0:pPr><ns0:r><ns0:t xml:space=\"preserve\">Some text in Sub-Section 1.  </ns0:t></ns0:r><ns0:r ns0:rsidRPr=\"00B608E9\"><ns0:t xml:space=\"preserve\">Per my previous email staff engagement, so reach out, yet low hanging fruit. Tread it daily first-order optimal strategies translating our vision of having a market leading </ns0:t></ns0:r><ns0:proofErr ns0:type=\"spellStart\" /><ns0:r ns0:rsidRPr=\"00B608E9\"><ns0:t>platfrom</ns0:t></ns0:r><ns0:proofErr ns0:type=\"spellEnd\" /><ns0:r ns0:rsidRPr=\"00B608E9\"><ns0:t xml:space=\"preserve\"> nor action item. Reach out this proposal is a win-win situation which will cause a stellar paradigm </ns0:t></ns0:r><ns0:proofErr ns0:type=\"gramStart\" /><ns0:r ns0:rsidRPr=\"00B608E9\"><ns0:t>shift, and</ns0:t></ns0:r><ns0:proofErr ns0:type=\"gramEnd\" /><ns0:r ns0:rsidRPr=\"00B608E9\"><ns0:t xml:space=\"preserve\"> produce a multi-fold increase in deliverables nor poop, and personal development.</ns0:t></ns0:r></ns0:p><ns0:p ns2:paraId=\"3F6B81AA\" ns2:textId=\"1A5A38FE\" ns0:rsidP=\"00D608AE\" ns0:rsidR=\"00D608AE\" ns0:rsidRDefault=\"00D608AE\"><ns0:pPr><ns0:pStyle ns0:val=\"NoSpacing\" /></ns0:pPr></ns0:p><ns0:p ns2:paraId=\"124920C6\" ns2:textId=\"529D614A\" ns0:rsidP=\"00D608AE\" ns0:rsidR=\"00D608AE\" ns0:rsidRDefault=\"00D608AE\"><ns0:pPr><ns0:pStyle ns0:val=\"Heading2\" /></ns0:pPr><ns0:bookmarkStart ns0:id=\"3\" ns0:name=\"_Toc94376601\" /><ns0:r><ns0:t>Sub-Section 2</ns0:t></ns0:r><ns0:bookmarkEnd ns0:id=\"3\" /></ns0:p><ns0:p ns2:paraId=\"7AAA2CF8\" ns2:textId=\"2C2975F9\" ns0:rsidP=\"00D608AE\" ns0:rsidR=\"00D608AE\" ns0:rsidRDefault=\"00B608E9\"><ns0:pPr><ns0:pStyle ns0:val=\"NoSpacing\" /></ns0:pPr><ns0:r><ns0:t xml:space=\"preserve\">Some text in Sub-Section 2.  </ns0:t></ns0:r><ns0:r ns0:rsidRPr=\"00B608E9\"><ns0:t xml:space=\"preserve\">Bacon ipsum dolor </ns0:t></ns0:r><ns0:proofErr ns0:type=\"spellStart\" /><ns0:r ns0:rsidRPr=\"00B608E9\"><ns0:t>amet</ns0:t></ns0:r><ns0:proofErr ns0:type=\"spellEnd\" /><ns0:r ns0:rsidRPr=\"00B608E9\"><ns0:t xml:space=\"preserve\"> </ns0:t></ns0:r><ns0:proofErr ns0:type=\"spellStart\" /><ns0:r ns0:rsidRPr=\"00B608E9\"><ns0:t>landjaeger</ns0:t></ns0:r><ns0:proofErr ns0:type=\"spellEnd\" /><ns0:r ns0:rsidRPr=\"00B608E9\"><ns0:t xml:space=\"preserve\"> capicola boudin frankfurter meatloaf short loin jowl, turducken rump </ns0:t></ns0:r><ns0:proofErr ns0:type=\"spellStart\" /><ns0:r ns0:rsidRPr=\"00B608E9\"><ns0:t>shankle</ns0:t></ns0:r><ns0:proofErr ns0:type=\"spellEnd\" /><ns0:r ns0:rsidRPr=\"00B608E9\"><ns0:t xml:space=\"preserve\"> hamburger salami drumstick shoulder pastrami. Pig tri-tip shoulder, </ns0:t></ns0:r><ns0:proofErr ns0:type=\"spellStart\" /><ns0:r ns0:rsidRPr=\"00B608E9\"><ns0:t>t-bone</ns0:t></ns0:r><ns0:proofErr ns0:type=\"spellEnd\" /><ns0:r ns0:rsidRPr=\"00B608E9\"><ns0:t xml:space=\"preserve\"> corned beef ham hock </ns0:t></ns0:r><ns0:proofErr ns0:type=\"spellStart\" /><ns0:r ns0:rsidRPr=\"00B608E9\"><ns0:t>picanha</ns0:t></ns0:r><ns0:proofErr ns0:type=\"spellEnd\" /><ns0:r ns0:rsidRPr=\"00B608E9\"><ns0:t xml:space=\"preserve\"> </ns0:t></ns0:r><ns0:proofErr ns0:type=\"spellStart\" /><ns0:r ns0:rsidRPr=\"00B608E9\"><ns0:t>burgdoggen</ns0:t></ns0:r><ns0:proofErr ns0:type=\"spellEnd\" /><ns0:r ns0:rsidRPr=\"00B608E9\"><ns0:t xml:space=\"preserve\"> tail flank meatball. Biltong ground round rump salami short ribs bacon pastrami brisket chicken chuck.</ns0:t></ns0:r></ns0:p><ns0:p ns2:paraId=\"347AE539\" ns2:textId=\"69B88642\" ns0:rsidP=\"00D608AE\" ns0:rsidR=\"00D608AE\" ns0:rsidRDefault=\"00D608AE\"><ns0:pPr><ns0:pStyle ns0:val=\"NoSpacing\" /></ns0:pPr></ns0:p><ns0:p ns2:paraId=\"670387E9\" ns2:textId=\"0B6FF146\" ns0:rsidP=\"00D608AE\" ns0:rsidR=\"00D608AE\" ns0:rsidRDefault=\"00D608AE\"><ns0:pPr><ns0:pStyle ns0:val=\"Heading2\" /></ns0:pPr><ns0:bookmarkStart ns0:id=\"4\" ns0:name=\"_Toc94376602\" /><ns0:r><ns0:t>Sub-Section 3</ns0:t></ns0:r><ns0:bookmarkEnd ns0:id=\"4\" /></ns0:p><ns0:p ns2:paraId=\"6087CC97\" ns2:textId=\"776C791F\" ns0:rsidP=\"00D608AE\" ns0:rsidR=\"00D608AE\" ns0:rsidRDefault=\"00B608E9\"><ns0:pPr><ns0:pStyle ns0:val=\"NoSpacing\" /></ns0:pPr><ns0:r><ns0:t xml:space=\"preserve\">Some text in Sub-Section 3.  </ns0:t></ns0:r><ns0:r ns0:rsidRPr=\"00B608E9\"><ns0:t>Leverage agile frameworks to provide a robust synopsis for high level overviews. Iterative approaches to corporate strategy foster collaborative thinking to further the overall value proposition. Organically grow the holistic world view of disruptive innovation via workplace diversity and empowerment.</ns0:t></ns0:r></ns0:p><ns0:p ns2:paraId=\"7CA18C26\" ns2:textId=\"5C8A76C7\" ns0:rsidP=\"00D608AE\" ns0:rsidR=\"00B608E9\" ns0:rsidRDefault=\"00B608E9\"><ns0:pPr><ns0:pStyle ns0:val=\"NoSpacing\" /></ns0:pPr></ns0:p><ns0:p ns2:paraId=\"46FB9C90\" ns2:textId=\"3DB22C36\" ns0:rsidP=\"00D608AE\" ns0:rsidR=\"00B608E9\" ns0:rsidRDefault=\"00B608E9\"><ns0:pPr><ns0:pStyle ns0:val=\"NoSpacing\" /></ns0:pPr></ns0:p><ns0:p ns2:paraId=\"7756DCAB\" ns2:textId=\"7301DDD2\" ns0:rsidP=\"00B608E9\" ns0:rsidR=\"00B608E9\" ns0:rsidRDefault=\"00B608E9\"><ns0:pPr><ns0:pStyle ns0:val=\"Heading1\" /></ns0:pPr><ns0:bookmarkStart ns0:id=\"5\" ns0:name=\"_Toc94376603\" /><ns0:r><ns0:t>Appendix</ns0:t></ns0:r><ns0:bookmarkEnd ns0:id=\"5\" /></ns0:p><ns0:p ns2:paraId=\"29A7AACA\" ns2:textId=\"79E8BD38\" ns0:rsidP=\"00D608AE\" ns0:rsidR=\"00B608E9\" ns0:rsidRDefault=\"00B608E9\"><ns0:pPr><ns0:pStyle ns0:val=\"NoSpacing\" /></ns0:pPr><ns0:r><ns0:t>Some text in the Appendix.</ns0:t></ns0:r></ns0:p><ns0:p ns2:paraId=\"30AACBCA\" ns2:textId=\"77777777\" ns0:rsidP=\"00D608AE\" ns0:rsidR=\"00B608E9\" ns0:rsidRDefault=\"00B608E9\"><ns0:pPr><ns0:pStyle ns0:val=\"NoSpacing\" /></ns0:pPr></ns0:p><ns0:p ns2:paraId=\"7D9E0299\" ns2:textId=\"31D698E0\" ns0:rsidP=\"00D608AE\" ns0:rsidR=\"00D608AE\" ns0:rsidRDefault=\"00D608AE\"><ns0:pPr><ns0:pStyle ns0:val=\"NoSpacing\" /></ns0:pPr></ns0:p><ns0:p ns2:paraId=\"10B3956E\" ns2:textId=\"77777777\" ns0:rsidP=\"00D608AE\" ns0:rsidR=\"00D608AE\" ns0:rsidRDefault=\"00D608AE\"><ns0:pPr><ns0:pStyle ns0:val=\"NoSpacing\" /></ns0:pPr></ns0:p><ns0:sectPr ns0:rsidR=\"00D608AE\"><ns0:pgSz ns0:h=\"15840\" ns0:w=\"12240\" /><ns0:pgMar ns0:bottom=\"1440\" ns0:footer=\"720\" ns0:gutter=\"0\" ns0:header=\"720\" ns0:left=\"1440\" ns0:right=\"1440\" ns0:top=\"1440\" /><ns0:cols ns0:space=\"720\" /><ns0:docGrid ns0:linePitch=\"360\" /></ns0:sectPr></ns0:body></ns0:document>'"
      ]
     },
     "execution_count": 16,
     "metadata": {},
     "output_type": "execute_result"
    }
   ],
   "source": [
    "ET.tostring(root)"
   ]
  },
  {
   "cell_type": "code",
   "execution_count": 18,
   "metadata": {},
   "outputs": [],
   "source": [
    "# Microsoft's XML makes heavy use of XML namespaces; thus, we'll need to reference that in our code\n",
    "ns = {'w': 'http://schemas.openxmlformats.org/wordprocessingml/2006/main'}\n",
    "body = root.find('w:body', ns)  # find the XML \"body\" tag\n",
    "p_sections = body.findall('w:p', ns)  # under the body tag, find all the paragraph sections"
   ]
  },
  {
   "cell_type": "markdown",
   "metadata": {},
   "source": [
    "If we loop through all the paragraph sections and pull out just the text from each section, we'll see this:"
   ]
  },
  {
   "cell_type": "code",
   "execution_count": 24,
   "metadata": {},
   "outputs": [
    {
     "name": "stdout",
     "output_type": "stream",
     "text": [
      "\n",
      "\n",
      "Overview\n",
      "\n",
      "Some sort of document overview.  Lorem ipsum dolor sit amet, consectetur adipiscing elit. Integer id tellus facilisis, bibendum tellus quis, luctus elit. Phasellus erat quam, tincidunt sed sem at, fermentum egestas est.\n",
      "\n",
      "\n",
      "\n",
      "\n",
      "\n",
      "Main Section\n",
      "\n",
      "Sub-Section 1\n",
      "\n",
      "Some text in Sub-Section 1.  Per my previous email staff engagement, so reach out, yet low hanging fruit. Tread it daily first-order optimal strategies translating our vision of having a market leading platfrom nor action item. Reach out this proposal is a win-win situation which will cause a stellar paradigm shift, and produce a multi-fold increase in deliverables nor poop, and personal development.\n",
      "\n",
      "\n",
      "\n",
      "Sub-Section 2\n",
      "\n",
      "Some text in Sub-Section 2.  Bacon ipsum dolor amet landjaeger capicola boudin frankfurter meatloaf short loin jowl, turducken rump shankle hamburger salami drumstick shoulder pastrami. Pig tri-tip shoulder, t-bone corned beef ham hock picanha burgdoggen tail flank meatball. Biltong ground round rump salami short ribs bacon pastrami brisket chicken chuck.\n",
      "\n",
      "\n",
      "\n",
      "Sub-Section 3\n",
      "\n",
      "Some text in Sub-Section 3.  Leverage agile frameworks to provide a robust synopsis for high level overviews. Iterative approaches to corporate strategy foster collaborative thinking to further the overall value proposition. Organically grow the holistic world view of disruptive innovation via workplace diversity and empowerment.\n",
      "\n",
      "\n",
      "\n",
      "\n",
      "\n",
      "Appendix\n",
      "\n",
      "Some text in the Appendix.\n",
      "\n",
      "\n",
      "\n",
      "\n",
      "\n",
      "\n",
      "\n"
     ]
    }
   ],
   "source": [
    "for p in p_sections:\n",
    "    text_elems = p.findall('.//w:t', ns)\n",
    "    print(''.join([t.text for t in text_elems]))\n",
    "    print()"
   ]
  },
  {
   "cell_type": "markdown",
   "metadata": {},
   "source": [
    "But suppose we only want the text from the three Sub-Sections.  In the Word document, we know that the headers of these sections are styled as \"Heading 2\".  Can we then search for just \"Heading 2\" sections and get the associated text?"
   ]
  },
  {
   "cell_type": "code",
   "execution_count": 25,
   "metadata": {},
   "outputs": [
    {
     "data": {
      "text/plain": [
       "['',\n",
       " '',\n",
       " '',\n",
       " '',\n",
       " '',\n",
       " '',\n",
       " 'Sub-Section 1',\n",
       " '',\n",
       " '',\n",
       " 'Sub-Section 2',\n",
       " '',\n",
       " '',\n",
       " 'Sub-Section 3',\n",
       " '',\n",
       " '',\n",
       " '',\n",
       " '',\n",
       " '',\n",
       " '',\n",
       " '',\n",
       " '']"
      ]
     },
     "execution_count": 25,
     "metadata": {},
     "output_type": "execute_result"
    }
   ],
   "source": [
    "def is_heading2_section(p):\n",
    "    \"\"\"Returns True if the given paragraph section has been styled as a Heading2\"\"\"\n",
    "    return_val = False\n",
    "    heading_style_elem = p.find(\".//w:pStyle[@w:val='Heading2']\", ns)\n",
    "    if heading_style_elem is not None:\n",
    "        return_val = True\n",
    "    return return_val\n",
    "\n",
    "\n",
    "def get_section_text(p):\n",
    "    \"\"\"Returns the joined text of the text elements under the given paragraph tag\"\"\"\n",
    "    return_val = ''\n",
    "    text_elems = p.findall('.//w:t', ns)\n",
    "    if text_elems is not None:\n",
    "        return_val = ''.join([t.text for t in text_elems])\n",
    "    return return_val\n",
    "\n",
    "\n",
    "section_labels = [get_section_text(s) if is_heading2_section(s) else '' for s in p_sections]\n",
    "section_labels"
   ]
  },
  {
   "cell_type": "markdown",
   "metadata": {},
   "source": [
    "So, now that we know which paragraphs are the Heading 2 titles, we can grab the text from the associated sections:"
   ]
  },
  {
   "cell_type": "code",
   "execution_count": 29,
   "metadata": {},
   "outputs": [
    {
     "data": {
      "text/plain": [
       "[{'title': 'Sub-Section 1',\n",
       "  'text': 'Some text in Sub-Section 1.  Per my previous email staff engagement, so reach out, yet low hanging fruit. Tread it daily first-order optimal strategies translating our vision of having a market leading platfrom nor action item. Reach out this proposal is a win-win situation which will cause a stellar paradigm shift, and produce a multi-fold increase in deliverables nor poop, and personal development.'},\n",
       " {'title': 'Sub-Section 2',\n",
       "  'text': 'Some text in Sub-Section 2.  Bacon ipsum dolor amet landjaeger capicola boudin frankfurter meatloaf short loin jowl, turducken rump shankle hamburger salami drumstick shoulder pastrami. Pig tri-tip shoulder, t-bone corned beef ham hock picanha burgdoggen tail flank meatball. Biltong ground round rump salami short ribs bacon pastrami brisket chicken chuck.'},\n",
       " {'title': 'Sub-Section 3',\n",
       "  'text': 'Some text in Sub-Section 3.  Leverage agile frameworks to provide a robust synopsis for high level overviews. Iterative approaches to corporate strategy foster collaborative thinking to further the overall value proposition. Organically grow the holistic world view of disruptive innovation via workplace diversity and empowerment.'}]"
      ]
     },
     "execution_count": 29,
     "metadata": {},
     "output_type": "execute_result"
    }
   ],
   "source": [
    "section_text = [{'title': t, 'text': get_section_text(p_sections[i+1])} for i, t in enumerate(section_labels) if len(t) > 0]\n",
    "section_text"
   ]
  }
 ],
 "metadata": {
  "kernelspec": {
   "display_name": "Python [conda env:anaconda3]",
   "language": "python",
   "name": "conda-env-anaconda3-py"
  },
  "language_info": {
   "codemirror_mode": {
    "name": "ipython",
    "version": 3
   },
   "file_extension": ".py",
   "mimetype": "text/x-python",
   "name": "python",
   "nbconvert_exporter": "python",
   "pygments_lexer": "ipython3",
   "version": "3.7.4"
  }
 },
 "nbformat": 4,
 "nbformat_minor": 2
}
