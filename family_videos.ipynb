{
 "cells": [
  {
   "cell_type": "code",
   "execution_count": 1,
   "metadata": {},
   "outputs": [],
   "source": [
    "import pandas as pd\n",
    "from datetime import datetime\n",
    "import matplotlib.pyplot as plt\n",
    "\n",
    "%matplotlib inline"
   ]
  },
  {
   "cell_type": "code",
   "execution_count": 2,
   "metadata": {},
   "outputs": [
    {
     "data": {
      "text/plain": [
       "Text(0,0.5,'Duration in Minutes')"
      ]
     },
     "execution_count": 2,
     "metadata": {},
     "output_type": "execute_result"
    },
    {
     "data": {
      "image/png": "[encoded data removed]",
      "text/plain": [
       "<Figure size 720x432 with 1 Axes>"
      ]
     },
     "metadata": {},
     "output_type": "display_data"
    }
   ],
   "source": [
    "d = {'year': [2006, 2007, 2008, 2009, 2010, 2011, 2012, 2013, 2014, 2015, 2016, 2017, 2018, 2019], \n",
    "     'duration_minutes': [78, 0, 0, 140, 98, 64, 60, 73, 122, 94, 60, 70, 75, 82]}\n",
    "\n",
    "df_vids = pd.DataFrame(d)\n",
    "fig, ax = plt.subplots(figsize=(10, 6))\n",
    "df_vids.plot(kind='bar', x='year', y='duration_minutes', ax=ax, color='blue')\n",
    "ax.set_title('Family Video Durations: 2006 - 2019')\n",
    "ax.set_ylabel('Duration in Minutes')"
   ]
  },
  {
   "cell_type": "code",
   "execution_count": null,
   "metadata": {},
   "outputs": [],
   "source": [
    "sum([78, 140, 98, 64, 60, 73, 122, 94, 60, 70, 75, 82])/12  # avg minutes for each family video"
   ]
  },
  {
   "cell_type": "code",
   "execution_count": null,
   "metadata": {},
   "outputs": [],
   "source": [
    "%%writefile total_duration.sh\n",
    "let total_duration_ms=0\n",
    "for media_file in /mnt/extdrv/qsync_backup/Pictures/2019/*/*/*.{mp3,mp4,mov,wav,MP3,MP4,MOV,WAV}; do\n",
    "        if [ -f \"$media_file\" ]; then\n",
    "                total_duration_ms=$(expr $total_duration_ms + $(mediainfo --Inform=\"General;%Duration%\" \"$media_file\"))\n",
    "        fi\n",
    "done\n",
    "echo $total_duration_ms"
   ]
  },
  {
   "cell_type": "code",
   "execution_count": null,
   "metadata": {},
   "outputs": [],
   "source": [
    "29768929 + 4130145 + 1887394 + 5955511 + 5516039 + 12497043 + 1964476 + 29622707  # adding all the different totals together"
   ]
  }
 ],
 "metadata": {
  "kernelspec": {
   "display_name": "Python 3",
   "language": "python",
   "name": "python3"
  },
  "language_info": {
   "codemirror_mode": {
    "name": "ipython",
    "version": 3
   },
   "file_extension": ".py",
   "mimetype": "text/x-python",
   "name": "python",
   "nbconvert_exporter": "python",
   "pygments_lexer": "ipython3",
   "version": "3.6.2"
  }
 },
 "nbformat": 4,
 "nbformat_minor": 2
}
