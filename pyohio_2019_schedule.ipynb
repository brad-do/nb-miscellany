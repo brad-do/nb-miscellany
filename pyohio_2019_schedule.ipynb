{
 "cells": [
  {
   "cell_type": "markdown",
   "metadata": {},
   "source": [
    "# Scraping the PyOhio Schedule\n",
    "The twelfth annual [PyOhio conference](https://www.pyohio.org/2019/) was held on July 27-28 and...it. was. awesome!\n",
    "\n",
    "Now, when it comes to planning for a conference, I must admit that I'm a bit \"old school.\"  A day or two before the gathering, I like to print out the schedule and carefully research each session so that I can choose the ones that best meet my work and personal objectives.  Often, a conference will let you download a printable schedule; however, I didn't find any such file on the [PyOhio website](https://www.pyohio.org/2019/).  No matter, I can write some Python to scrape the schedule from the website and create my own CSV for printing.  Here's what I did:"
   ]
  },
  {
   "cell_type": "markdown",
   "metadata": {},
   "source": [
    "### Import [requests](https://2.python-requests.org//en/v0.10.6/), [BeautifulSoup](https://www.crummy.com/software/BeautifulSoup/), and [csv](https://docs.python.org/3/library/csv.html)"
   ]
  },
  {
   "cell_type": "code",
   "execution_count": 1,
   "metadata": {},
   "outputs": [],
   "source": [
    "import requests\n",
    "from bs4 import BeautifulSoup\n",
    "import csv"
   ]
  },
  {
   "cell_type": "markdown",
   "metadata": {},
   "source": [
    "### Grab the page with requests"
   ]
  },
  {
   "cell_type": "code",
   "execution_count": 2,
   "metadata": {},
   "outputs": [],
   "source": [
    "result = requests.get('https://www.pyohio.org/2019/events/schedule/')\n",
    "soup = BeautifulSoup(result.content, 'lxml')"
   ]
  },
  {
   "cell_type": "markdown",
   "metadata": {},
   "source": [
    "### Parse the page with BeautifulSoup\n",
    "Unfortunately, I can only go the conference on Saturday, so I'll just grab the Saturday sessions."
   ]
  },
  {
   "cell_type": "code",
   "execution_count": 3,
   "metadata": {},
   "outputs": [],
   "source": [
    "day_2_list = [['start_end', 'slot1', 'slot2', 'slot3', 'slot4']]\n",
    "day_2 = soup.select('div.day')[1]  # get just Saturday\n",
    "talks_section = day_2.find('h3', string='Keynotes, Talks, & Tutorials').parent\n",
    "\n",
    "# iterate across each time block\n",
    "for time_block in talks_section.select('div.time-block'):\n",
    "    start_end = time_block.find('div', {'class': 'time-wrapper'}).get_text().replace('to', ' - ')\n",
    "    time_rec = [start_end, '', '', '', '']\n",
    "    # now, iterate across each slot within a time block.  a time block can have 1-4 time slots\n",
    "    for slot in time_block.select('div.time-block-slots'):\n",
    "        for i, card in enumerate(slot.select('div.schedule-item')):\n",
    "            class_title = card.select_one('h3').get_text()\n",
    "            presenter = (card.select('p')[0]).get_text()\n",
    "            location = (card.select('p')[1]).get_text()\n",
    "            time_rec[i+1] = '{0}\\n{1}\\n{2}'.format(class_title, presenter, location)\n",
    "    day_2_list.append(time_rec)  # after grabbing each slot, write the block to my \"day 2\" list"
   ]
  },
  {
   "cell_type": "markdown",
   "metadata": {},
   "source": [
    "### Finally, write my list to a CSV file"
   ]
  },
  {
   "cell_type": "markdown",
   "metadata": {},
   "source": [
    "csv_file = 'pyohio_20190727_schedule.csv'\n",
    "\n",
    "with open(csv_file, 'w', newline='') as f:\n",
    "    writer = csv.writer(f)\n",
    "    writer.writerows(day_2_list)"
   ]
  },
  {
   "cell_type": "markdown",
   "metadata": {},
   "source": [
    "### For convenience, go ahead and open my CSV\n",
    "I have Excel installed on my workstation, so the CSV will open automatically there and I can format it nicely for printing."
   ]
  },
  {
   "cell_type": "code",
   "execution_count": 6,
   "metadata": {},
   "outputs": [],
   "source": [
    "!{csv_file}"
   ]
  }
 ],
 "metadata": {
  "kernelspec": {
   "display_name": "Python 3",
   "language": "python",
   "name": "python3"
  },
  "language_info": {
   "codemirror_mode": {
    "name": "ipython",
    "version": 3
   },
   "file_extension": ".py",
   "mimetype": "text/x-python",
   "name": "python",
   "nbconvert_exporter": "python",
   "pygments_lexer": "ipython3",
   "version": "3.6.2"
  }
 },
 "nbformat": 4,
 "nbformat_minor": 2
}
