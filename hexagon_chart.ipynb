{
 "cells": [
  {
   "cell_type": "code",
   "execution_count": 1,
   "metadata": {},
   "outputs": [],
   "source": [
    "from bokeh.io import output_notebook, show, output_file\n",
    "from bokeh.plotting import figure\n",
    "import numpy as np\n",
    "from bokeh.util.hex import axial_to_cartesian\n",
    "\n",
    "# output_notebook()"
   ]
  },
  {
   "cell_type": "code",
   "execution_count": 2,
   "metadata": {},
   "outputs": [],
   "source": [
    "output_file('foo.html')\n",
    "q = np.array([0, 0, 0, -1, -1, 1, 1])\n",
    "r = np.array([0, -1, 1, 0, 1, -1, 0])\n",
    "p = figure(plot_width=400, plot_height=400, toolbar_location=None)\n",
    "p.grid.visible = False\n",
    "p.hex_tile(q, r, size=1, fill_color=['firebrick'] * 3 + ['navy'] * 4, line_color='white', alpha=0.5)\n",
    "x, y = axial_to_cartesian(q, r, 1, 'pointytop')\n",
    "p.text(x, y, text=['(%d, %d)' % (q, r) for (q, r) in zip(q, r)], text_baseline='middle', text_align='center')\n",
    "\n",
    "show(p)\n"
   ]
  },
  {
   "cell_type": "code",
   "execution_count": null,
   "metadata": {},
   "outputs": [],
   "source": [
    "import bokeh\n",
    "bokeh.__version__"
   ]
  }
 ],
 "metadata": {
  "kernelspec": {
   "display_name": "Python 3",
   "language": "python",
   "name": "python3"
  },
  "language_info": {
   "codemirror_mode": {
    "name": "ipython",
    "version": 3
   },
   "file_extension": ".py",
   "mimetype": "text/x-python",
   "name": "python",
   "nbconvert_exporter": "python",
   "pygments_lexer": "ipython3",
   "version": "3.6.2"
  }
 },
 "nbformat": 4,
 "nbformat_minor": 2
}
