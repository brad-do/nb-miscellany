{
 "cells": [
  {
   "cell_type": "markdown",
   "metadata": {},
   "source": [
    "# How do you transpose a Question/Answer dataset?\n",
    "Recently, a friend came to me with an interesting challenge.  He had a dataset of questions and answers where each record contained a single question and answer to the question.  Arguably, this dataset was already in a [tidy](https://vita.had.co.nz/papers/tidy-data.pdf), but my friend wanted to transpose the data such that each unique question became a column of its own with the answers as values.  \n",
    "\n",
    "Before I could come to his aid, my friend already found a [great answer](https://medium.com/@enricobergamini/creating-non-numeric-pivot-tables-with-python-pandas-7aa9dfd788a7) at [Medium.com](https://medium.com/) using the pandas function: [pivot_table](https://pandas.pydata.org/pandas-docs/stable/reference/api/pandas.DataFrame.pivot_table.html).\n",
    "\n",
    "Here's what he did:"
   ]
  },
  {
   "cell_type": "markdown",
   "metadata": {},
   "source": [
    "### Step 1: Import pandas"
   ]
  },
  {
   "cell_type": "code",
   "execution_count": 17,
   "metadata": {},
   "outputs": [],
   "source": [
    "import pandas as pd"
   ]
  },
  {
   "cell_type": "markdown",
   "metadata": {},
   "source": [
    "### Step 2: Load the dataset into a pandas dataframe"
   ]
  },
  {
   "cell_type": "code",
   "execution_count": 18,
   "metadata": {},
   "outputs": [
    {
     "data": {
      "text/html": [
       "<div>\n",
       "<style>\n",
       "    .dataframe thead tr:only-child th {\n",
       "        text-align: right;\n",
       "    }\n",
       "\n",
       "    .dataframe thead th {\n",
       "        text-align: left;\n",
       "    }\n",
       "\n",
       "    .dataframe tbody tr th {\n",
       "        vertical-align: top;\n",
       "    }\n",
       "</style>\n",
       "<table border=\"1\" class=\"dataframe\">\n",
       "  <thead>\n",
       "    <tr style=\"text-align: right;\">\n",
       "      <th></th>\n",
       "      <th>person</th>\n",
       "      <th>question</th>\n",
       "      <th>answer</th>\n",
       "    </tr>\n",
       "  </thead>\n",
       "  <tbody>\n",
       "    <tr>\n",
       "      <th>0</th>\n",
       "      <td>Sir Robin</td>\n",
       "      <td>What is your name?</td>\n",
       "      <td>Sir Robin of Camelot</td>\n",
       "    </tr>\n",
       "    <tr>\n",
       "      <th>1</th>\n",
       "      <td>Sir Robin</td>\n",
       "      <td>What is your quest?</td>\n",
       "      <td>To seek the Holy Grail</td>\n",
       "    </tr>\n",
       "    <tr>\n",
       "      <th>2</th>\n",
       "      <td>Sir Robin</td>\n",
       "      <td>What is the capital of Assyria?</td>\n",
       "      <td>I don't know that</td>\n",
       "    </tr>\n",
       "    <tr>\n",
       "      <th>3</th>\n",
       "      <td>Sir Lancelot</td>\n",
       "      <td>What is your name?</td>\n",
       "      <td>Sir Lancelot of Camelot</td>\n",
       "    </tr>\n",
       "    <tr>\n",
       "      <th>4</th>\n",
       "      <td>Sir Lancelot</td>\n",
       "      <td>What is your quest?</td>\n",
       "      <td>To seek the Holy Grail</td>\n",
       "    </tr>\n",
       "  </tbody>\n",
       "</table>\n",
       "</div>"
      ],
      "text/plain": [
       "         person                         question                   answer\n",
       "0     Sir Robin               What is your name?     Sir Robin of Camelot\n",
       "1     Sir Robin              What is your quest?   To seek the Holy Grail\n",
       "2     Sir Robin  What is the capital of Assyria?        I don't know that\n",
       "3  Sir Lancelot               What is your name?  Sir Lancelot of Camelot\n",
       "4  Sir Lancelot              What is your quest?   To seek the Holy Grail"
      ]
     },
     "execution_count": 18,
     "metadata": {},
     "output_type": "execute_result"
    }
   ],
   "source": [
    "df = pd.read_csv('questions.csv', sep='\\t')\n",
    "df.head()"
   ]
  },
  {
   "cell_type": "markdown",
   "metadata": {},
   "source": [
    "### Step 3: Run pivot_table\n",
    "The trick here is the *aggfunc* operation.  The *aggfunc* parameter is normally used to sum, average, or perform some other type of numeric operation on your *values* columns.  Interestingly, though, you can apparently supply your own custom function to this parameter instead.  Here, the Medium.com author found that he could simply loop through every letter of the answer and re-join them with spaces, effectively return the original answer."
   ]
  },
  {
   "cell_type": "code",
   "execution_count": 19,
   "metadata": {},
   "outputs": [
    {
     "data": {
      "text/html": [
       "<div>\n",
       "<style>\n",
       "    .dataframe thead tr:only-child th {\n",
       "        text-align: right;\n",
       "    }\n",
       "\n",
       "    .dataframe thead th {\n",
       "        text-align: left;\n",
       "    }\n",
       "\n",
       "    .dataframe tbody tr th {\n",
       "        vertical-align: top;\n",
       "    }\n",
       "</style>\n",
       "<table border=\"1\" class=\"dataframe\">\n",
       "  <thead>\n",
       "    <tr>\n",
       "      <th></th>\n",
       "      <th colspan=\"5\" halign=\"left\">answer</th>\n",
       "    </tr>\n",
       "    <tr>\n",
       "      <th>question</th>\n",
       "      <th>What is the air speed of an unladened swallow?</th>\n",
       "      <th>What is the capital of Assyria?</th>\n",
       "      <th>What is your favorite colour?</th>\n",
       "      <th>What is your name?</th>\n",
       "      <th>What is your quest?</th>\n",
       "    </tr>\n",
       "    <tr>\n",
       "      <th>person</th>\n",
       "      <th></th>\n",
       "      <th></th>\n",
       "      <th></th>\n",
       "      <th></th>\n",
       "      <th></th>\n",
       "    </tr>\n",
       "  </thead>\n",
       "  <tbody>\n",
       "    <tr>\n",
       "      <th>King Arthur</th>\n",
       "      <td>What do you mean?  An African or European swal...</td>\n",
       "      <td>None</td>\n",
       "      <td>None</td>\n",
       "      <td>Arthur, King of the Britons</td>\n",
       "      <td>I seek the Holy Grail</td>\n",
       "    </tr>\n",
       "    <tr>\n",
       "      <th>Sir Galahad</th>\n",
       "      <td>None</td>\n",
       "      <td>None</td>\n",
       "      <td>Blue, no Yellow</td>\n",
       "      <td>Sir Galahad of Camelot</td>\n",
       "      <td>I seek the Grail</td>\n",
       "    </tr>\n",
       "    <tr>\n",
       "      <th>Sir Lancelot</th>\n",
       "      <td>None</td>\n",
       "      <td>None</td>\n",
       "      <td>Blue</td>\n",
       "      <td>Sir Lancelot of Camelot</td>\n",
       "      <td>To seek the Holy Grail</td>\n",
       "    </tr>\n",
       "    <tr>\n",
       "      <th>Sir Robin</th>\n",
       "      <td>None</td>\n",
       "      <td>I don't know that</td>\n",
       "      <td>None</td>\n",
       "      <td>Sir Robin of Camelot</td>\n",
       "      <td>To seek the Holy Grail</td>\n",
       "    </tr>\n",
       "  </tbody>\n",
       "</table>\n",
       "</div>"
      ],
      "text/plain": [
       "                                                         answer  \\\n",
       "question         What is the air speed of an unladened swallow?   \n",
       "person                                                            \n",
       "King Arthur   What do you mean?  An African or European swal...   \n",
       "Sir Galahad                                                None   \n",
       "Sir Lancelot                                               None   \n",
       "Sir Robin                                                  None   \n",
       "\n",
       "                                                                            \\\n",
       "question     What is the capital of Assyria? What is your favorite colour?   \n",
       "person                                                                       \n",
       "King Arthur                             None                          None   \n",
       "Sir Galahad                             None               Blue, no Yellow   \n",
       "Sir Lancelot                            None                          Blue   \n",
       "Sir Robin                  I don't know that                          None   \n",
       "\n",
       "                                                                   \n",
       "question               What is your name?     What is your quest?  \n",
       "person                                                             \n",
       "King Arthur   Arthur, King of the Britons   I seek the Holy Grail  \n",
       "Sir Galahad        Sir Galahad of Camelot        I seek the Grail  \n",
       "Sir Lancelot      Sir Lancelot of Camelot  To seek the Holy Grail  \n",
       "Sir Robin            Sir Robin of Camelot  To seek the Holy Grail  "
      ]
     },
     "execution_count": 19,
     "metadata": {},
     "output_type": "execute_result"
    }
   ],
   "source": [
    "df_pivotted = df.pivot_table(index='person', values=['answer'], \n",
    "                             columns=['question'], aggfunc=lambda x: ' '.join(str(v) for v in x))\n",
    "df_pivotted.head()"
   ]
  },
  {
   "cell_type": "markdown",
   "metadata": {},
   "source": [
    "### That seems pretty complicated\n",
    "The use of [pivot_table](https://pandas.pydata.org/pandas-docs/stable/reference/api/pandas.DataFrame.pivot_table.html) certainly works in this example and it's pretty sweet to see that you can pass your own custom function to it.  However, pandas also has a more generic, [pivot](https://pandas.pydata.org/pandas-docs/stable/reference/api/pandas.DataFrame.pivot.html) function.  Could that have worked here?\n",
    "\n",
    "The answer is: yes.  When you google [pandas pivot vs pivot_table](https://www.google.com/search?q=pandas+pivot+vs+pivot_table), one of the top responses is [this Stackoverflow.com post](https://stackoverflow.com/questions/30960338/pandas-difference-between-pivot-and-pivot-table-why-is-only-pivot-table-workin) that suggests *pivot_table* only allows numerically-typed columns in the *values* parameter while *pivot* will take strings.  I don't think this is quite true, since the above example passed a string column to the *values* parameter, but it does suggest that *pivot* might be more disposed to working with strings that *pivot_table*.  Let's give it a try:"
   ]
  },
  {
   "cell_type": "code",
   "execution_count": 20,
   "metadata": {},
   "outputs": [
    {
     "data": {
      "text/html": [
       "<div>\n",
       "<style>\n",
       "    .dataframe thead tr:only-child th {\n",
       "        text-align: right;\n",
       "    }\n",
       "\n",
       "    .dataframe thead th {\n",
       "        text-align: left;\n",
       "    }\n",
       "\n",
       "    .dataframe tbody tr th {\n",
       "        vertical-align: top;\n",
       "    }\n",
       "</style>\n",
       "<table border=\"1\" class=\"dataframe\">\n",
       "  <thead>\n",
       "    <tr style=\"text-align: right;\">\n",
       "      <th>question</th>\n",
       "      <th>What is the air speed of an unladened swallow?</th>\n",
       "      <th>What is the capital of Assyria?</th>\n",
       "      <th>What is your favorite colour?</th>\n",
       "      <th>What is your name?</th>\n",
       "      <th>What is your quest?</th>\n",
       "    </tr>\n",
       "    <tr>\n",
       "      <th>person</th>\n",
       "      <th></th>\n",
       "      <th></th>\n",
       "      <th></th>\n",
       "      <th></th>\n",
       "      <th></th>\n",
       "    </tr>\n",
       "  </thead>\n",
       "  <tbody>\n",
       "    <tr>\n",
       "      <th>King Arthur</th>\n",
       "      <td>What do you mean?  An African or European swal...</td>\n",
       "      <td>None</td>\n",
       "      <td>None</td>\n",
       "      <td>Arthur, King of the Britons</td>\n",
       "      <td>I seek the Holy Grail</td>\n",
       "    </tr>\n",
       "    <tr>\n",
       "      <th>Sir Galahad</th>\n",
       "      <td>None</td>\n",
       "      <td>None</td>\n",
       "      <td>Blue, no Yellow</td>\n",
       "      <td>Sir Galahad of Camelot</td>\n",
       "      <td>I seek the Grail</td>\n",
       "    </tr>\n",
       "    <tr>\n",
       "      <th>Sir Lancelot</th>\n",
       "      <td>None</td>\n",
       "      <td>None</td>\n",
       "      <td>Blue</td>\n",
       "      <td>Sir Lancelot of Camelot</td>\n",
       "      <td>To seek the Holy Grail</td>\n",
       "    </tr>\n",
       "    <tr>\n",
       "      <th>Sir Robin</th>\n",
       "      <td>None</td>\n",
       "      <td>I don't know that</td>\n",
       "      <td>None</td>\n",
       "      <td>Sir Robin of Camelot</td>\n",
       "      <td>To seek the Holy Grail</td>\n",
       "    </tr>\n",
       "  </tbody>\n",
       "</table>\n",
       "</div>"
      ],
      "text/plain": [
       "question         What is the air speed of an unladened swallow?  \\\n",
       "person                                                            \n",
       "King Arthur   What do you mean?  An African or European swal...   \n",
       "Sir Galahad                                                None   \n",
       "Sir Lancelot                                               None   \n",
       "Sir Robin                                                  None   \n",
       "\n",
       "question     What is the capital of Assyria? What is your favorite colour?  \\\n",
       "person                                                                       \n",
       "King Arthur                             None                          None   \n",
       "Sir Galahad                             None               Blue, no Yellow   \n",
       "Sir Lancelot                            None                          Blue   \n",
       "Sir Robin                  I don't know that                          None   \n",
       "\n",
       "question               What is your name?     What is your quest?  \n",
       "person                                                             \n",
       "King Arthur   Arthur, King of the Britons   I seek the Holy Grail  \n",
       "Sir Galahad        Sir Galahad of Camelot        I seek the Grail  \n",
       "Sir Lancelot      Sir Lancelot of Camelot  To seek the Holy Grail  \n",
       "Sir Robin            Sir Robin of Camelot  To seek the Holy Grail  "
      ]
     },
     "execution_count": 20,
     "metadata": {},
     "output_type": "execute_result"
    }
   ],
   "source": [
    "df.pivot(index='person', values='answer', columns='question')"
   ]
  },
  {
   "cell_type": "markdown",
   "metadata": {},
   "source": [
    "Whaddya know?!  Looks like we can do the same transformation somewhat easier with *pivot*."
   ]
  }
 ],
 "metadata": {
  "kernelspec": {
   "display_name": "Python 3",
   "language": "python",
   "name": "python3"
  },
  "language_info": {
   "codemirror_mode": {
    "name": "ipython",
    "version": 3
   },
   "file_extension": ".py",
   "mimetype": "text/x-python",
   "name": "python",
   "nbconvert_exporter": "python",
   "pygments_lexer": "ipython3",
   "version": "3.6.2"
  }
 },
 "nbformat": 4,
 "nbformat_minor": 2
}
