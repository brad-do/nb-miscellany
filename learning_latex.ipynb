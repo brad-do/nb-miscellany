{
 "cells": [
  {
   "cell_type": "markdown",
   "metadata": {},
   "source": [
    "### This is a simply notebook to help me learn the ins-and-outs of [LaTeX](https://en.wikipedia.org/wiki/LaTeX)."
   ]
  },
  {
   "cell_type": "markdown",
   "metadata": {},
   "source": [
    "#### Formulas using \"inline\" LaTeX:"
   ]
  },
  {
   "cell_type": "markdown",
   "metadata": {},
   "source": [
    "Ridge Regression:<br>\n",
    "standard OLS loss function + $\\alpha * \\sum_{i=1}^{n}a^{2}_i$\n",
    "\n",
    "Lasso Regression:<br>\n",
    "standard OLS function + $\\alpha * \\sum_{i=1}^{n} \\lvert{a_i}\\lvert$"
   ]
  },
  {
   "cell_type": "markdown",
   "metadata": {},
   "source": [
    "#### Formulas using \"display\" LaTeX:"
   ]
  },
  {
   "cell_type": "markdown",
   "metadata": {},
   "source": [
    "Ridge Regression:<br>\n",
    "standard OLS loss function + $$\\alpha * \\sum_{i=1}^{n}a^{2}_i$$\n",
    "\n",
    "Lasso Regression:<br>\n",
    "standard OLS function + $$\\alpha * \\sum_{i=1}^{n} \\lvert{a_i}\\lvert$$"
   ]
  }
 ],
 "metadata": {
  "kernelspec": {
   "display_name": "Python 3",
   "language": "python",
   "name": "python3"
  },
  "language_info": {
   "codemirror_mode": {
    "name": "ipython",
    "version": 3
   },
   "file_extension": ".py",
   "mimetype": "text/x-python",
   "name": "python",
   "nbconvert_exporter": "python",
   "pygments_lexer": "ipython3",
   "version": "3.6.2"
  }
 },
 "nbformat": 4,
 "nbformat_minor": 2
}
