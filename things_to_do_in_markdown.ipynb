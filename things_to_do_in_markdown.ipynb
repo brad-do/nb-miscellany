{
 "cells": [
  {
   "cell_type": "markdown",
   "metadata": {},
   "source": [
    "# Ten things I like to do in Jupyter Markdown"
   ]
  },
  {
   "cell_type": "markdown",
   "metadata": {},
   "source": [
    "### 1. Use hashes for easy titles\n",
    "\n",
    "```\n",
    "# This becomes a H1 header/title\n",
    "```"
   ]
  },
  {
   "cell_type": "markdown",
   "metadata": {},
   "source": [
    "### 2. Use asterisks and hyphens for bullet points\n",
    "\n",
    "```\n",
    "* this is one way to do a bullet point\n",
    " - this is another way to do a bullet point\n",
    "```"
   ]
  },
  {
   "cell_type": "markdown",
   "metadata": {},
   "source": [
    "### 3. Use asterisks and underscores for emphasis\n",
    "\n",
    "```\n",
    "*these words become italicized*\n",
    "__these words become bold__\n",
    "```"
   ]
  },
  {
   "cell_type": "markdown",
   "metadata": {},
   "source": [
    "### 4. Center my headers with some HTML\n",
    "\n",
    "```\n",
    "<h1 style=\"text-align: center\">This header is centered</h1>\n",
    "```\n",
    "(note: this doesn't seem to work in jupyter lab)"
   ]
  },
  {
   "cell_type": "markdown",
   "metadata": {},
   "source": [
    "### 5. Create thick dividing lines with HTML\n",
    "\n",
    "```\n",
    "<hr style=\"border-top: 5px solid purple; margin-top: 1px; margin-bottom: 1px\"></hr>\n",
    "```\n"
   ]
  },
  {
   "cell_type": "markdown",
   "metadata": {},
   "source": [
    "### 6. Write mathematical formulas\n",
    "\n",
    "```\n",
    "linear regression: $y = ax + b$\n",
    "two dimensions: $y = a_{1}x_{1} + a_{2}x_{2} + b$\n",
    "Ridge Regression: standard OLS loss function + $\\alpha \\times \\sum_{i=1}^{n} a^{2}_i$\n",
    "```\n",
    "$\\alpha \\times \\sum_{i=1}^{n} a^{2}_i$"
   ]
  },
  {
   "cell_type": "markdown",
   "metadata": {},
   "source": [
    "### 7. Create hyperlinks\n",
    "\n",
    "```\n",
    "[Google](google.com)\n",
    "```"
   ]
  },
  {
   "cell_type": "markdown",
   "metadata": {},
   "source": [
    "### 8. Drop in images with HTML\n",
    "\n",
    "```\n",
    "<img src=\"something.png\" style=\"max-width:50%; max-height:50%\"></img>\n",
    "```"
   ]
  },
  {
   "cell_type": "markdown",
   "metadata": {},
   "source": [
    "### 9. Create nice tables\n",
    "\n",
    "```\n",
    "|| sepal length (cm) | sepal width (cm) |\n",
    "|----|----|----|\n",
    "|0|5.1|3.5|\n",
    "|1|4.9|3.0|\n",
    "```\n",
    "|| sepal length (cm) | sepal width (cm) |\n",
    "|----|----|----|\n",
    "|0|5.1|3.5|\n",
    "|1|4.9|3.0|"
   ]
  },
  {
   "cell_type": "markdown",
   "metadata": {},
   "source": [
    "### 10. Escape text with three tick marks\n",
    "\n",
    "```\n",
    "sample code goes here\n",
    "```"
   ]
  }
 ],
 "metadata": {
  "kernelspec": {
   "display_name": "Python 3",
   "language": "python",
   "name": "python3"
  },
  "language_info": {
   "codemirror_mode": {
    "name": "ipython",
    "version": 3
   },
   "file_extension": ".py",
   "mimetype": "text/x-python",
   "name": "python",
   "nbconvert_exporter": "python",
   "pygments_lexer": "ipython3",
   "version": "3.6.2"
  }
 },
 "nbformat": 4,
 "nbformat_minor": 2
}
