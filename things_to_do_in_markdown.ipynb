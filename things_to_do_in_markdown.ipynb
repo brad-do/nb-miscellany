{
 "cells": [
  {
   "cell_type": "markdown",
   "metadata": {},
   "source": [
    "# Ten things I like to do in Jupyter Markdown\n",
    "One of the great things about Jupyter Notebook is how you can intersperse your code blocks with [markdown blocks](https://jupyter-notebook.readthedocs.io/en/stable/examples/Notebook/Working%20With%20Markdown%20Cells.html) that you can use to add comments or simply more context to your code.  Here are ten ways I like to use markdown in my Jupyter Notebooks."
   ]
  },
  {
   "cell_type": "markdown",
   "metadata": {},
   "source": [
    "### 1. Use hashes for easy titles\n",
    "\n",
    "```\n",
    "# This becomes a H1 header/title\n",
    "```\n",
    "# This becomes a H1 header/title"
   ]
  },
  {
   "cell_type": "markdown",
   "metadata": {},
   "source": [
    "### 2. Use asterisks and hyphens for bullet points\n",
    "\n",
    "```\n",
    "* this is one way to do a bullet point\n",
    "- this is another way to do a bullet point\n",
    "```\n",
    "* this is one way to do a bullet point\n",
    "- this is another way to do a bullet point"
   ]
  },
  {
   "cell_type": "markdown",
   "metadata": {},
   "source": [
    "### 3. Use asterisks and underscores for emphasis\n",
    "\n",
    "```\n",
    "*these words become italicized*\n",
    "__these words become bold__\n",
    "```\n",
    "*these words become italicized*<br>\n",
    "__these words become bold__"
   ]
  },
  {
   "cell_type": "markdown",
   "metadata": {},
   "source": [
    "### 4. Center my headers with some HTML\n",
    "\n",
    "```\n",
    "<h1 style=\"text-align: center\">This header is centered</h1>\n",
    "```\n",
    "<h1 style=\"text-align: center\">This header is centered</h1>\n",
    "(note: this doesn't seem to center in jupyter lab)"
   ]
  },
  {
   "cell_type": "markdown",
   "metadata": {},
   "source": [
    "### 5. Create thick dividing lines with HTML\n",
    "\n",
    "```\n",
    "<hr style=\"border-top: 5px solid purple; margin-top: 1px; margin-bottom: 1px\"></hr>\n",
    "```\n",
    "<hr style=\"border-top: 5px solid purple; margin-top: 1px; margin-bottom: 1px\"></hr>"
   ]
  },
  {
   "cell_type": "markdown",
   "metadata": {},
   "source": [
    "### 6. Write mathematical formulas\n",
    "\n",
    "```\n",
    "linear regression: $y = ax + b$\n",
    "two dimensions: $y = a_{1}x_{1} + a_{2}x_{2} + b$\n",
    "Ridge Regression: standard OLS loss function + $\\alpha \\times \\sum_{i=1}^{n} a^{2}_i$\n",
    "```\n",
    "linear regression: $y = ax + b$<br>\n",
    "two dimensions: $y = a_{1}x_{1} + a_{2}x_{2} + b$<br>\n",
    "Ridge Regression: standard OLS loss function + $\\alpha \\times \\sum_{i=1}^{n} a^{2}_i$"
   ]
  },
  {
   "cell_type": "markdown",
   "metadata": {},
   "source": [
    "### 7. Create hyperlinks\n",
    "\n",
    "```\n",
    "[Google](google.com)\n",
    "```\n",
    "[Google](google.com)"
   ]
  },
  {
   "cell_type": "markdown",
   "metadata": {},
   "source": [
    "### 8. Drop in images with HTML\n",
    "\n",
    "```\n",
    "<img src=\"mind_blown.gif\" style=\"max-width:50%; max-height:50%\"></img>\n",
    "```\n",
    "<img src=\"mind_blown.gif\" style=\"max-width:50%; max-height:50%\"></img>"
   ]
  },
  {
   "cell_type": "markdown",
   "metadata": {},
   "source": [
    "### 9. Create nice tables\n",
    "\n",
    "```\n",
    "|| sepal length (cm) | sepal width (cm) |\n",
    "|----|----|----|\n",
    "|0|5.1|3.5|\n",
    "|1|4.9|3.0|\n",
    "```\n",
    "|| sepal length (cm) | sepal width (cm) |\n",
    "|----|----|----|\n",
    "|0|5.1|3.5|\n",
    "|1|4.9|3.0|"
   ]
  },
  {
   "cell_type": "markdown",
   "metadata": {},
   "source": [
    "### 10. Escape text with three tick marks\n",
    "\n",
    "```\n",
    "sample code goes here\n",
    "```"
   ]
  },
  {
   "cell_type": "markdown",
   "metadata": {},
   "source": [
    "### 11. Bonus: change the background color of your markdown cells\n",
    "(note: the background colors don't seem to work in Jupyter Lab)"
   ]
  },
  {
   "cell_type": "markdown",
   "metadata": {},
   "source": [
    "```\n",
    "<div class=\"alert alert-block alert-info\">\n",
    "This is a blue background\n",
    "</div>\n",
    "```\n",
    "<div class=\"alert alert-block alert-info\">\n",
    "This is a blue background\n",
    "</div>"
   ]
  },
  {
   "cell_type": "markdown",
   "metadata": {},
   "source": [
    "```\n",
    "<div class=\"alert alert-block alert-warning\">\n",
    "This is a yellow background\n",
    "</div>\n",
    "```\n",
    "<div class=\"alert alert-block alert-warning\">\n",
    "This is a yellow background\n",
    "</div>"
   ]
  },
  {
   "cell_type": "markdown",
   "metadata": {},
   "source": [
    "```\n",
    "<div class=\"alert alert-block alert-success\">\n",
    "This is a green background\n",
    "</div>\n",
    "```\n",
    "<div class=\"alert alert-block alert-success\">\n",
    "This is a green background\n",
    "</div>"
   ]
  },
  {
   "cell_type": "markdown",
   "metadata": {},
   "source": [
    "```\n",
    "<div class=\"alert alert-block alert-danger\">\n",
    "This is a red background\n",
    "</div>\n",
    "```\n",
    "<div class=\"alert alert-block alert-danger\">\n",
    "This is a red background\n",
    "</div>"
   ]
  }
 ],
 "metadata": {
  "kernelspec": {
   "display_name": "Python 3",
   "language": "python",
   "name": "python3"
  },
  "language_info": {
   "codemirror_mode": {
    "name": "ipython",
    "version": 3
   },
   "file_extension": ".py",
   "mimetype": "text/x-python",
   "name": "python",
   "nbconvert_exporter": "python",
   "pygments_lexer": "ipython3",
   "version": "3.6.2"
  }
 },
 "nbformat": 4,
 "nbformat_minor": 2
}
