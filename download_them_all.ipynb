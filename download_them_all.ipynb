{
 "cells": [
  {
   "cell_type": "markdown",
   "metadata": {},
   "source": [
    "##  With [Firefox Quantum](https://www.bleepingcomputer.com/news/security/upgrading-to-firefox-quantum-expect-some-add-ons-to-no-longer-work/), many of my favorite plugins no longer work.  One of these is [DownloadThemAll](https://addons.mozilla.org/en-US/firefox/addon/downthemall/).  Now, it's a real pain to bulk download files from a webpage.  What's one to do?  Well, here's one option, albeit a little cumbersome: write some Python to download the files I want.\n",
    "\n",
    "## So, here's my particular use case: I wanted to download the 130+ images of [NSA security posters recently released with a FOIA request](https://archive.org/details/NSASecurityPosters).  I wanted to download the JPG files directly from archive.org instead of the zip they provided--there was something about the zip I didn't like, though now I don't remember what.  Anyway, I found a page where links to all the images were listed and then wrote some Python to download each of the files to my \"data\" directory."
   ]
  },
  {
   "cell_type": "markdown",
   "metadata": {},
   "source": [
    "### Step 1: Load the necessary packages.  Here, I'll use [requests](http://docs.python-requests.org/en/master/) to do my HTTP request work, [BeautifulSoup](https://www.crummy.com/software/BeautifulSoup/) to parse the webpage with all the file links, and [lxml](https://lxml.de/) for the XPathQuery work in BeautifulSoup."
   ]
  },
  {
   "cell_type": "code",
   "execution_count": 1,
   "metadata": {},
   "outputs": [],
   "source": [
    "import requests\n",
    "from bs4 import BeautifulSoup\n",
    "import lxml"
   ]
  },
  {
   "cell_type": "markdown",
   "metadata": {},
   "source": [
    "### Step 2: Set the url of the page that lists the urls of all the files I want to download.  I noticed that the sub-domain \"ia801501\" can change, so this particular url may or may not work."
   ]
  },
  {
   "cell_type": "code",
   "execution_count": 2,
   "metadata": {},
   "outputs": [],
   "source": [
    "url = 'https://ia801501.us.archive.org/zipview.php?zip=/12/items/NSAsecurityPosters1950s60s/NSAsecurityPosters_1950s-60s_jp2.zip'\n"
   ]
  },
  {
   "cell_type": "markdown",
   "metadata": {},
   "source": [
    "### Step 3: Load the webpage into a BeautifulSoup object.  "
   ]
  },
  {
   "cell_type": "code",
   "execution_count": 3,
   "metadata": {},
   "outputs": [],
   "source": [
    "result = requests.get(url)\n",
    "soup = BeautifulSoup(result.content, \"lxml\")"
   ]
  },
  {
   "cell_type": "markdown",
   "metadata": {},
   "source": [
    "### Step 4: Parse the \"soup\" object to find the list of files I want to download--the JPG files--and start downloading.  How do I know I need a iterate through all elements that have an id of 'jpg'?  Well, I had to look at the HTML source of the download page.  This is the step that makes this \"download them all\" solution unwieldy: for every new page containing files I want to download, I have to spend time looking at the HTML source to figure out how to programmatically get to those download links.  That can be a pain.  Once I figure that out, though, all I need to do is iterate through that list, grab the download links, and write the files to disk."
   ]
  },
  {
   "cell_type": "code",
   "execution_count": 10,
   "metadata": {},
   "outputs": [
    {
     "name": "stdout",
     "output_type": "stream",
     "text": [
      "https://archive.org/download/NSAsecurityPosters1950s60s/NSAsecurityPosters_1950s-60s_jp2.zip/NSAsecurityPosters_1950s-60s_jp2%2FNSAsecurityPosters_1950s-60s_0000.jpg  NSAsecurityPosters_1950s-60s_0000.jpg\n",
      "https://archive.org/download/NSAsecurityPosters1950s60s/NSAsecurityPosters_1950s-60s_jp2.zip/NSAsecurityPosters_1950s-60s_jp2%2FNSAsecurityPosters_1950s-60s_0001.jpg  NSAsecurityPosters_1950s-60s_0001.jpg\n",
      "https://archive.org/download/NSAsecurityPosters1950s60s/NSAsecurityPosters_1950s-60s_jp2.zip/NSAsecurityPosters_1950s-60s_jp2%2FNSAsecurityPosters_1950s-60s_0002.jpg  NSAsecurityPosters_1950s-60s_0002.jpg\n",
      "https://archive.org/download/NSAsecurityPosters1950s60s/NSAsecurityPosters_1950s-60s_jp2.zip/NSAsecurityPosters_1950s-60s_jp2%2FNSAsecurityPosters_1950s-60s_0003.jpg  NSAsecurityPosters_1950s-60s_0003.jpg\n",
      "https://archive.org/download/NSAsecurityPosters1950s60s/NSAsecurityPosters_1950s-60s_jp2.zip/NSAsecurityPosters_1950s-60s_jp2%2FNSAsecurityPosters_1950s-60s_0004.jpg  NSAsecurityPosters_1950s-60s_0004.jpg\n",
      "https://archive.org/download/NSAsecurityPosters1950s60s/NSAsecurityPosters_1950s-60s_jp2.zip/NSAsecurityPosters_1950s-60s_jp2%2FNSAsecurityPosters_1950s-60s_0005.jpg  NSAsecurityPosters_1950s-60s_0005.jpg\n",
      "https://archive.org/download/NSAsecurityPosters1950s60s/NSAsecurityPosters_1950s-60s_jp2.zip/NSAsecurityPosters_1950s-60s_jp2%2FNSAsecurityPosters_1950s-60s_0006.jpg  NSAsecurityPosters_1950s-60s_0006.jpg\n",
      "https://archive.org/download/NSAsecurityPosters1950s60s/NSAsecurityPosters_1950s-60s_jp2.zip/NSAsecurityPosters_1950s-60s_jp2%2FNSAsecurityPosters_1950s-60s_0007.jpg  NSAsecurityPosters_1950s-60s_0007.jpg\n",
      "https://archive.org/download/NSAsecurityPosters1950s60s/NSAsecurityPosters_1950s-60s_jp2.zip/NSAsecurityPosters_1950s-60s_jp2%2FNSAsecurityPosters_1950s-60s_0008.jpg  NSAsecurityPosters_1950s-60s_0008.jpg\n",
      "https://archive.org/download/NSAsecurityPosters1950s60s/NSAsecurityPosters_1950s-60s_jp2.zip/NSAsecurityPosters_1950s-60s_jp2%2FNSAsecurityPosters_1950s-60s_0009.jpg  NSAsecurityPosters_1950s-60s_0009.jpg\n",
      "https://archive.org/download/NSAsecurityPosters1950s60s/NSAsecurityPosters_1950s-60s_jp2.zip/NSAsecurityPosters_1950s-60s_jp2%2FNSAsecurityPosters_1950s-60s_0010.jpg  NSAsecurityPosters_1950s-60s_0010.jpg\n",
      "https://archive.org/download/NSAsecurityPosters1950s60s/NSAsecurityPosters_1950s-60s_jp2.zip/NSAsecurityPosters_1950s-60s_jp2%2FNSAsecurityPosters_1950s-60s_0011.jpg  NSAsecurityPosters_1950s-60s_0011.jpg\n",
      "https://archive.org/download/NSAsecurityPosters1950s60s/NSAsecurityPosters_1950s-60s_jp2.zip/NSAsecurityPosters_1950s-60s_jp2%2FNSAsecurityPosters_1950s-60s_0012.jpg  NSAsecurityPosters_1950s-60s_0012.jpg\n",
      "https://archive.org/download/NSAsecurityPosters1950s60s/NSAsecurityPosters_1950s-60s_jp2.zip/NSAsecurityPosters_1950s-60s_jp2%2FNSAsecurityPosters_1950s-60s_0013.jpg  NSAsecurityPosters_1950s-60s_0013.jpg\n",
      "https://archive.org/download/NSAsecurityPosters1950s60s/NSAsecurityPosters_1950s-60s_jp2.zip/NSAsecurityPosters_1950s-60s_jp2%2FNSAsecurityPosters_1950s-60s_0014.jpg  NSAsecurityPosters_1950s-60s_0014.jpg\n",
      "https://archive.org/download/NSAsecurityPosters1950s60s/NSAsecurityPosters_1950s-60s_jp2.zip/NSAsecurityPosters_1950s-60s_jp2%2FNSAsecurityPosters_1950s-60s_0015.jpg  NSAsecurityPosters_1950s-60s_0015.jpg\n",
      "https://archive.org/download/NSAsecurityPosters1950s60s/NSAsecurityPosters_1950s-60s_jp2.zip/NSAsecurityPosters_1950s-60s_jp2%2FNSAsecurityPosters_1950s-60s_0016.jpg  NSAsecurityPosters_1950s-60s_0016.jpg\n",
      "https://archive.org/download/NSAsecurityPosters1950s60s/NSAsecurityPosters_1950s-60s_jp2.zip/NSAsecurityPosters_1950s-60s_jp2%2FNSAsecurityPosters_1950s-60s_0017.jpg  NSAsecurityPosters_1950s-60s_0017.jpg\n",
      "https://archive.org/download/NSAsecurityPosters1950s60s/NSAsecurityPosters_1950s-60s_jp2.zip/NSAsecurityPosters_1950s-60s_jp2%2FNSAsecurityPosters_1950s-60s_0018.jpg  NSAsecurityPosters_1950s-60s_0018.jpg\n",
      "https://archive.org/download/NSAsecurityPosters1950s60s/NSAsecurityPosters_1950s-60s_jp2.zip/NSAsecurityPosters_1950s-60s_jp2%2FNSAsecurityPosters_1950s-60s_0019.jpg  NSAsecurityPosters_1950s-60s_0019.jpg\n",
      "https://archive.org/download/NSAsecurityPosters1950s60s/NSAsecurityPosters_1950s-60s_jp2.zip/NSAsecurityPosters_1950s-60s_jp2%2FNSAsecurityPosters_1950s-60s_0020.jpg  NSAsecurityPosters_1950s-60s_0020.jpg\n",
      "https://archive.org/download/NSAsecurityPosters1950s60s/NSAsecurityPosters_1950s-60s_jp2.zip/NSAsecurityPosters_1950s-60s_jp2%2FNSAsecurityPosters_1950s-60s_0021.jpg  NSAsecurityPosters_1950s-60s_0021.jpg\n",
      "https://archive.org/download/NSAsecurityPosters1950s60s/NSAsecurityPosters_1950s-60s_jp2.zip/NSAsecurityPosters_1950s-60s_jp2%2FNSAsecurityPosters_1950s-60s_0022.jpg  NSAsecurityPosters_1950s-60s_0022.jpg\n",
      "https://archive.org/download/NSAsecurityPosters1950s60s/NSAsecurityPosters_1950s-60s_jp2.zip/NSAsecurityPosters_1950s-60s_jp2%2FNSAsecurityPosters_1950s-60s_0023.jpg  NSAsecurityPosters_1950s-60s_0023.jpg\n",
      "https://archive.org/download/NSAsecurityPosters1950s60s/NSAsecurityPosters_1950s-60s_jp2.zip/NSAsecurityPosters_1950s-60s_jp2%2FNSAsecurityPosters_1950s-60s_0024.jpg  NSAsecurityPosters_1950s-60s_0024.jpg\n",
      "https://archive.org/download/NSAsecurityPosters1950s60s/NSAsecurityPosters_1950s-60s_jp2.zip/NSAsecurityPosters_1950s-60s_jp2%2FNSAsecurityPosters_1950s-60s_0025.jpg  NSAsecurityPosters_1950s-60s_0025.jpg\n",
      "https://archive.org/download/NSAsecurityPosters1950s60s/NSAsecurityPosters_1950s-60s_jp2.zip/NSAsecurityPosters_1950s-60s_jp2%2FNSAsecurityPosters_1950s-60s_0026.jpg  NSAsecurityPosters_1950s-60s_0026.jpg\n",
      "https://archive.org/download/NSAsecurityPosters1950s60s/NSAsecurityPosters_1950s-60s_jp2.zip/NSAsecurityPosters_1950s-60s_jp2%2FNSAsecurityPosters_1950s-60s_0027.jpg  NSAsecurityPosters_1950s-60s_0027.jpg\n",
      "https://archive.org/download/NSAsecurityPosters1950s60s/NSAsecurityPosters_1950s-60s_jp2.zip/NSAsecurityPosters_1950s-60s_jp2%2FNSAsecurityPosters_1950s-60s_0028.jpg  NSAsecurityPosters_1950s-60s_0028.jpg\n",
      "https://archive.org/download/NSAsecurityPosters1950s60s/NSAsecurityPosters_1950s-60s_jp2.zip/NSAsecurityPosters_1950s-60s_jp2%2FNSAsecurityPosters_1950s-60s_0029.jpg  NSAsecurityPosters_1950s-60s_0029.jpg\n",
      "https://archive.org/download/NSAsecurityPosters1950s60s/NSAsecurityPosters_1950s-60s_jp2.zip/NSAsecurityPosters_1950s-60s_jp2%2FNSAsecurityPosters_1950s-60s_0030.jpg  NSAsecurityPosters_1950s-60s_0030.jpg\n",
      "https://archive.org/download/NSAsecurityPosters1950s60s/NSAsecurityPosters_1950s-60s_jp2.zip/NSAsecurityPosters_1950s-60s_jp2%2FNSAsecurityPosters_1950s-60s_0031.jpg  NSAsecurityPosters_1950s-60s_0031.jpg\n",
      "https://archive.org/download/NSAsecurityPosters1950s60s/NSAsecurityPosters_1950s-60s_jp2.zip/NSAsecurityPosters_1950s-60s_jp2%2FNSAsecurityPosters_1950s-60s_0032.jpg  NSAsecurityPosters_1950s-60s_0032.jpg\n",
      "https://archive.org/download/NSAsecurityPosters1950s60s/NSAsecurityPosters_1950s-60s_jp2.zip/NSAsecurityPosters_1950s-60s_jp2%2FNSAsecurityPosters_1950s-60s_0033.jpg  NSAsecurityPosters_1950s-60s_0033.jpg\n",
      "https://archive.org/download/NSAsecurityPosters1950s60s/NSAsecurityPosters_1950s-60s_jp2.zip/NSAsecurityPosters_1950s-60s_jp2%2FNSAsecurityPosters_1950s-60s_0034.jpg  NSAsecurityPosters_1950s-60s_0034.jpg\n",
      "https://archive.org/download/NSAsecurityPosters1950s60s/NSAsecurityPosters_1950s-60s_jp2.zip/NSAsecurityPosters_1950s-60s_jp2%2FNSAsecurityPosters_1950s-60s_0035.jpg  NSAsecurityPosters_1950s-60s_0035.jpg\n",
      "https://archive.org/download/NSAsecurityPosters1950s60s/NSAsecurityPosters_1950s-60s_jp2.zip/NSAsecurityPosters_1950s-60s_jp2%2FNSAsecurityPosters_1950s-60s_0036.jpg  NSAsecurityPosters_1950s-60s_0036.jpg\n",
      "https://archive.org/download/NSAsecurityPosters1950s60s/NSAsecurityPosters_1950s-60s_jp2.zip/NSAsecurityPosters_1950s-60s_jp2%2FNSAsecurityPosters_1950s-60s_0037.jpg  NSAsecurityPosters_1950s-60s_0037.jpg\n",
      "https://archive.org/download/NSAsecurityPosters1950s60s/NSAsecurityPosters_1950s-60s_jp2.zip/NSAsecurityPosters_1950s-60s_jp2%2FNSAsecurityPosters_1950s-60s_0038.jpg  NSAsecurityPosters_1950s-60s_0038.jpg\n",
      "https://archive.org/download/NSAsecurityPosters1950s60s/NSAsecurityPosters_1950s-60s_jp2.zip/NSAsecurityPosters_1950s-60s_jp2%2FNSAsecurityPosters_1950s-60s_0039.jpg  NSAsecurityPosters_1950s-60s_0039.jpg\n"
     ]
    },
    {
     "name": "stdout",
     "output_type": "stream",
     "text": [
      "https://archive.org/download/NSAsecurityPosters1950s60s/NSAsecurityPosters_1950s-60s_jp2.zip/NSAsecurityPosters_1950s-60s_jp2%2FNSAsecurityPosters_1950s-60s_0040.jpg  NSAsecurityPosters_1950s-60s_0040.jpg\n",
      "https://archive.org/download/NSAsecurityPosters1950s60s/NSAsecurityPosters_1950s-60s_jp2.zip/NSAsecurityPosters_1950s-60s_jp2%2FNSAsecurityPosters_1950s-60s_0041.jpg  NSAsecurityPosters_1950s-60s_0041.jpg\n",
      "https://archive.org/download/NSAsecurityPosters1950s60s/NSAsecurityPosters_1950s-60s_jp2.zip/NSAsecurityPosters_1950s-60s_jp2%2FNSAsecurityPosters_1950s-60s_0042.jpg  NSAsecurityPosters_1950s-60s_0042.jpg\n",
      "https://archive.org/download/NSAsecurityPosters1950s60s/NSAsecurityPosters_1950s-60s_jp2.zip/NSAsecurityPosters_1950s-60s_jp2%2FNSAsecurityPosters_1950s-60s_0043.jpg  NSAsecurityPosters_1950s-60s_0043.jpg\n",
      "https://archive.org/download/NSAsecurityPosters1950s60s/NSAsecurityPosters_1950s-60s_jp2.zip/NSAsecurityPosters_1950s-60s_jp2%2FNSAsecurityPosters_1950s-60s_0044.jpg  NSAsecurityPosters_1950s-60s_0044.jpg\n",
      "https://archive.org/download/NSAsecurityPosters1950s60s/NSAsecurityPosters_1950s-60s_jp2.zip/NSAsecurityPosters_1950s-60s_jp2%2FNSAsecurityPosters_1950s-60s_0045.jpg  NSAsecurityPosters_1950s-60s_0045.jpg\n",
      "https://archive.org/download/NSAsecurityPosters1950s60s/NSAsecurityPosters_1950s-60s_jp2.zip/NSAsecurityPosters_1950s-60s_jp2%2FNSAsecurityPosters_1950s-60s_0046.jpg  NSAsecurityPosters_1950s-60s_0046.jpg\n",
      "https://archive.org/download/NSAsecurityPosters1950s60s/NSAsecurityPosters_1950s-60s_jp2.zip/NSAsecurityPosters_1950s-60s_jp2%2FNSAsecurityPosters_1950s-60s_0047.jpg  NSAsecurityPosters_1950s-60s_0047.jpg\n",
      "https://archive.org/download/NSAsecurityPosters1950s60s/NSAsecurityPosters_1950s-60s_jp2.zip/NSAsecurityPosters_1950s-60s_jp2%2FNSAsecurityPosters_1950s-60s_0048.jpg  NSAsecurityPosters_1950s-60s_0048.jpg\n",
      "https://archive.org/download/NSAsecurityPosters1950s60s/NSAsecurityPosters_1950s-60s_jp2.zip/NSAsecurityPosters_1950s-60s_jp2%2FNSAsecurityPosters_1950s-60s_0049.jpg  NSAsecurityPosters_1950s-60s_0049.jpg\n",
      "https://archive.org/download/NSAsecurityPosters1950s60s/NSAsecurityPosters_1950s-60s_jp2.zip/NSAsecurityPosters_1950s-60s_jp2%2FNSAsecurityPosters_1950s-60s_0050.jpg  NSAsecurityPosters_1950s-60s_0050.jpg\n",
      "https://archive.org/download/NSAsecurityPosters1950s60s/NSAsecurityPosters_1950s-60s_jp2.zip/NSAsecurityPosters_1950s-60s_jp2%2FNSAsecurityPosters_1950s-60s_0051.jpg  NSAsecurityPosters_1950s-60s_0051.jpg\n",
      "https://archive.org/download/NSAsecurityPosters1950s60s/NSAsecurityPosters_1950s-60s_jp2.zip/NSAsecurityPosters_1950s-60s_jp2%2FNSAsecurityPosters_1950s-60s_0052.jpg  NSAsecurityPosters_1950s-60s_0052.jpg\n",
      "https://archive.org/download/NSAsecurityPosters1950s60s/NSAsecurityPosters_1950s-60s_jp2.zip/NSAsecurityPosters_1950s-60s_jp2%2FNSAsecurityPosters_1950s-60s_0053.jpg  NSAsecurityPosters_1950s-60s_0053.jpg\n",
      "https://archive.org/download/NSAsecurityPosters1950s60s/NSAsecurityPosters_1950s-60s_jp2.zip/NSAsecurityPosters_1950s-60s_jp2%2FNSAsecurityPosters_1950s-60s_0054.jpg  NSAsecurityPosters_1950s-60s_0054.jpg\n",
      "https://archive.org/download/NSAsecurityPosters1950s60s/NSAsecurityPosters_1950s-60s_jp2.zip/NSAsecurityPosters_1950s-60s_jp2%2FNSAsecurityPosters_1950s-60s_0055.jpg  NSAsecurityPosters_1950s-60s_0055.jpg\n",
      "https://archive.org/download/NSAsecurityPosters1950s60s/NSAsecurityPosters_1950s-60s_jp2.zip/NSAsecurityPosters_1950s-60s_jp2%2FNSAsecurityPosters_1950s-60s_0056.jpg  NSAsecurityPosters_1950s-60s_0056.jpg\n",
      "https://archive.org/download/NSAsecurityPosters1950s60s/NSAsecurityPosters_1950s-60s_jp2.zip/NSAsecurityPosters_1950s-60s_jp2%2FNSAsecurityPosters_1950s-60s_0057.jpg  NSAsecurityPosters_1950s-60s_0057.jpg\n",
      "https://archive.org/download/NSAsecurityPosters1950s60s/NSAsecurityPosters_1950s-60s_jp2.zip/NSAsecurityPosters_1950s-60s_jp2%2FNSAsecurityPosters_1950s-60s_0058.jpg  NSAsecurityPosters_1950s-60s_0058.jpg\n",
      "https://archive.org/download/NSAsecurityPosters1950s60s/NSAsecurityPosters_1950s-60s_jp2.zip/NSAsecurityPosters_1950s-60s_jp2%2FNSAsecurityPosters_1950s-60s_0059.jpg  NSAsecurityPosters_1950s-60s_0059.jpg\n",
      "https://archive.org/download/NSAsecurityPosters1950s60s/NSAsecurityPosters_1950s-60s_jp2.zip/NSAsecurityPosters_1950s-60s_jp2%2FNSAsecurityPosters_1950s-60s_0060.jpg  NSAsecurityPosters_1950s-60s_0060.jpg\n",
      "https://archive.org/download/NSAsecurityPosters1950s60s/NSAsecurityPosters_1950s-60s_jp2.zip/NSAsecurityPosters_1950s-60s_jp2%2FNSAsecurityPosters_1950s-60s_0061.jpg  NSAsecurityPosters_1950s-60s_0061.jpg\n",
      "https://archive.org/download/NSAsecurityPosters1950s60s/NSAsecurityPosters_1950s-60s_jp2.zip/NSAsecurityPosters_1950s-60s_jp2%2FNSAsecurityPosters_1950s-60s_0062.jpg  NSAsecurityPosters_1950s-60s_0062.jpg\n",
      "https://archive.org/download/NSAsecurityPosters1950s60s/NSAsecurityPosters_1950s-60s_jp2.zip/NSAsecurityPosters_1950s-60s_jp2%2FNSAsecurityPosters_1950s-60s_0063.jpg  NSAsecurityPosters_1950s-60s_0063.jpg\n",
      "https://archive.org/download/NSAsecurityPosters1950s60s/NSAsecurityPosters_1950s-60s_jp2.zip/NSAsecurityPosters_1950s-60s_jp2%2FNSAsecurityPosters_1950s-60s_0064.jpg  NSAsecurityPosters_1950s-60s_0064.jpg\n",
      "https://archive.org/download/NSAsecurityPosters1950s60s/NSAsecurityPosters_1950s-60s_jp2.zip/NSAsecurityPosters_1950s-60s_jp2%2FNSAsecurityPosters_1950s-60s_0065.jpg  NSAsecurityPosters_1950s-60s_0065.jpg\n",
      "https://archive.org/download/NSAsecurityPosters1950s60s/NSAsecurityPosters_1950s-60s_jp2.zip/NSAsecurityPosters_1950s-60s_jp2%2FNSAsecurityPosters_1950s-60s_0066.jpg  NSAsecurityPosters_1950s-60s_0066.jpg\n",
      "https://archive.org/download/NSAsecurityPosters1950s60s/NSAsecurityPosters_1950s-60s_jp2.zip/NSAsecurityPosters_1950s-60s_jp2%2FNSAsecurityPosters_1950s-60s_0067.jpg  NSAsecurityPosters_1950s-60s_0067.jpg\n",
      "https://archive.org/download/NSAsecurityPosters1950s60s/NSAsecurityPosters_1950s-60s_jp2.zip/NSAsecurityPosters_1950s-60s_jp2%2FNSAsecurityPosters_1950s-60s_0068.jpg  NSAsecurityPosters_1950s-60s_0068.jpg\n",
      "https://archive.org/download/NSAsecurityPosters1950s60s/NSAsecurityPosters_1950s-60s_jp2.zip/NSAsecurityPosters_1950s-60s_jp2%2FNSAsecurityPosters_1950s-60s_0069.jpg  NSAsecurityPosters_1950s-60s_0069.jpg\n",
      "https://archive.org/download/NSAsecurityPosters1950s60s/NSAsecurityPosters_1950s-60s_jp2.zip/NSAsecurityPosters_1950s-60s_jp2%2FNSAsecurityPosters_1950s-60s_0070.jpg  NSAsecurityPosters_1950s-60s_0070.jpg\n",
      "https://archive.org/download/NSAsecurityPosters1950s60s/NSAsecurityPosters_1950s-60s_jp2.zip/NSAsecurityPosters_1950s-60s_jp2%2FNSAsecurityPosters_1950s-60s_0071.jpg  NSAsecurityPosters_1950s-60s_0071.jpg\n",
      "https://archive.org/download/NSAsecurityPosters1950s60s/NSAsecurityPosters_1950s-60s_jp2.zip/NSAsecurityPosters_1950s-60s_jp2%2FNSAsecurityPosters_1950s-60s_0072.jpg  NSAsecurityPosters_1950s-60s_0072.jpg\n",
      "https://archive.org/download/NSAsecurityPosters1950s60s/NSAsecurityPosters_1950s-60s_jp2.zip/NSAsecurityPosters_1950s-60s_jp2%2FNSAsecurityPosters_1950s-60s_0073.jpg  NSAsecurityPosters_1950s-60s_0073.jpg\n",
      "https://archive.org/download/NSAsecurityPosters1950s60s/NSAsecurityPosters_1950s-60s_jp2.zip/NSAsecurityPosters_1950s-60s_jp2%2FNSAsecurityPosters_1950s-60s_0074.jpg  NSAsecurityPosters_1950s-60s_0074.jpg\n",
      "https://archive.org/download/NSAsecurityPosters1950s60s/NSAsecurityPosters_1950s-60s_jp2.zip/NSAsecurityPosters_1950s-60s_jp2%2FNSAsecurityPosters_1950s-60s_0075.jpg  NSAsecurityPosters_1950s-60s_0075.jpg\n",
      "https://archive.org/download/NSAsecurityPosters1950s60s/NSAsecurityPosters_1950s-60s_jp2.zip/NSAsecurityPosters_1950s-60s_jp2%2FNSAsecurityPosters_1950s-60s_0076.jpg  NSAsecurityPosters_1950s-60s_0076.jpg\n",
      "https://archive.org/download/NSAsecurityPosters1950s60s/NSAsecurityPosters_1950s-60s_jp2.zip/NSAsecurityPosters_1950s-60s_jp2%2FNSAsecurityPosters_1950s-60s_0077.jpg  NSAsecurityPosters_1950s-60s_0077.jpg\n",
      "https://archive.org/download/NSAsecurityPosters1950s60s/NSAsecurityPosters_1950s-60s_jp2.zip/NSAsecurityPosters_1950s-60s_jp2%2FNSAsecurityPosters_1950s-60s_0078.jpg  NSAsecurityPosters_1950s-60s_0078.jpg\n",
      "https://archive.org/download/NSAsecurityPosters1950s60s/NSAsecurityPosters_1950s-60s_jp2.zip/NSAsecurityPosters_1950s-60s_jp2%2FNSAsecurityPosters_1950s-60s_0079.jpg  NSAsecurityPosters_1950s-60s_0079.jpg\n"
     ]
    },
    {
     "name": "stdout",
     "output_type": "stream",
     "text": [
      "https://archive.org/download/NSAsecurityPosters1950s60s/NSAsecurityPosters_1950s-60s_jp2.zip/NSAsecurityPosters_1950s-60s_jp2%2FNSAsecurityPosters_1950s-60s_0080.jpg  NSAsecurityPosters_1950s-60s_0080.jpg\n",
      "https://archive.org/download/NSAsecurityPosters1950s60s/NSAsecurityPosters_1950s-60s_jp2.zip/NSAsecurityPosters_1950s-60s_jp2%2FNSAsecurityPosters_1950s-60s_0081.jpg  NSAsecurityPosters_1950s-60s_0081.jpg\n",
      "https://archive.org/download/NSAsecurityPosters1950s60s/NSAsecurityPosters_1950s-60s_jp2.zip/NSAsecurityPosters_1950s-60s_jp2%2FNSAsecurityPosters_1950s-60s_0082.jpg  NSAsecurityPosters_1950s-60s_0082.jpg\n",
      "https://archive.org/download/NSAsecurityPosters1950s60s/NSAsecurityPosters_1950s-60s_jp2.zip/NSAsecurityPosters_1950s-60s_jp2%2FNSAsecurityPosters_1950s-60s_0083.jpg  NSAsecurityPosters_1950s-60s_0083.jpg\n",
      "https://archive.org/download/NSAsecurityPosters1950s60s/NSAsecurityPosters_1950s-60s_jp2.zip/NSAsecurityPosters_1950s-60s_jp2%2FNSAsecurityPosters_1950s-60s_0084.jpg  NSAsecurityPosters_1950s-60s_0084.jpg\n",
      "https://archive.org/download/NSAsecurityPosters1950s60s/NSAsecurityPosters_1950s-60s_jp2.zip/NSAsecurityPosters_1950s-60s_jp2%2FNSAsecurityPosters_1950s-60s_0085.jpg  NSAsecurityPosters_1950s-60s_0085.jpg\n",
      "https://archive.org/download/NSAsecurityPosters1950s60s/NSAsecurityPosters_1950s-60s_jp2.zip/NSAsecurityPosters_1950s-60s_jp2%2FNSAsecurityPosters_1950s-60s_0086.jpg  NSAsecurityPosters_1950s-60s_0086.jpg\n",
      "https://archive.org/download/NSAsecurityPosters1950s60s/NSAsecurityPosters_1950s-60s_jp2.zip/NSAsecurityPosters_1950s-60s_jp2%2FNSAsecurityPosters_1950s-60s_0087.jpg  NSAsecurityPosters_1950s-60s_0087.jpg\n",
      "https://archive.org/download/NSAsecurityPosters1950s60s/NSAsecurityPosters_1950s-60s_jp2.zip/NSAsecurityPosters_1950s-60s_jp2%2FNSAsecurityPosters_1950s-60s_0088.jpg  NSAsecurityPosters_1950s-60s_0088.jpg\n",
      "https://archive.org/download/NSAsecurityPosters1950s60s/NSAsecurityPosters_1950s-60s_jp2.zip/NSAsecurityPosters_1950s-60s_jp2%2FNSAsecurityPosters_1950s-60s_0089.jpg  NSAsecurityPosters_1950s-60s_0089.jpg\n",
      "https://archive.org/download/NSAsecurityPosters1950s60s/NSAsecurityPosters_1950s-60s_jp2.zip/NSAsecurityPosters_1950s-60s_jp2%2FNSAsecurityPosters_1950s-60s_0090.jpg  NSAsecurityPosters_1950s-60s_0090.jpg\n",
      "https://archive.org/download/NSAsecurityPosters1950s60s/NSAsecurityPosters_1950s-60s_jp2.zip/NSAsecurityPosters_1950s-60s_jp2%2FNSAsecurityPosters_1950s-60s_0091.jpg  NSAsecurityPosters_1950s-60s_0091.jpg\n",
      "https://archive.org/download/NSAsecurityPosters1950s60s/NSAsecurityPosters_1950s-60s_jp2.zip/NSAsecurityPosters_1950s-60s_jp2%2FNSAsecurityPosters_1950s-60s_0092.jpg  NSAsecurityPosters_1950s-60s_0092.jpg\n",
      "https://archive.org/download/NSAsecurityPosters1950s60s/NSAsecurityPosters_1950s-60s_jp2.zip/NSAsecurityPosters_1950s-60s_jp2%2FNSAsecurityPosters_1950s-60s_0093.jpg  NSAsecurityPosters_1950s-60s_0093.jpg\n",
      "https://archive.org/download/NSAsecurityPosters1950s60s/NSAsecurityPosters_1950s-60s_jp2.zip/NSAsecurityPosters_1950s-60s_jp2%2FNSAsecurityPosters_1950s-60s_0094.jpg  NSAsecurityPosters_1950s-60s_0094.jpg\n",
      "https://archive.org/download/NSAsecurityPosters1950s60s/NSAsecurityPosters_1950s-60s_jp2.zip/NSAsecurityPosters_1950s-60s_jp2%2FNSAsecurityPosters_1950s-60s_0095.jpg  NSAsecurityPosters_1950s-60s_0095.jpg\n",
      "https://archive.org/download/NSAsecurityPosters1950s60s/NSAsecurityPosters_1950s-60s_jp2.zip/NSAsecurityPosters_1950s-60s_jp2%2FNSAsecurityPosters_1950s-60s_0096.jpg  NSAsecurityPosters_1950s-60s_0096.jpg\n",
      "https://archive.org/download/NSAsecurityPosters1950s60s/NSAsecurityPosters_1950s-60s_jp2.zip/NSAsecurityPosters_1950s-60s_jp2%2FNSAsecurityPosters_1950s-60s_0097.jpg  NSAsecurityPosters_1950s-60s_0097.jpg\n",
      "https://archive.org/download/NSAsecurityPosters1950s60s/NSAsecurityPosters_1950s-60s_jp2.zip/NSAsecurityPosters_1950s-60s_jp2%2FNSAsecurityPosters_1950s-60s_0098.jpg  NSAsecurityPosters_1950s-60s_0098.jpg\n",
      "https://archive.org/download/NSAsecurityPosters1950s60s/NSAsecurityPosters_1950s-60s_jp2.zip/NSAsecurityPosters_1950s-60s_jp2%2FNSAsecurityPosters_1950s-60s_0099.jpg  NSAsecurityPosters_1950s-60s_0099.jpg\n",
      "https://archive.org/download/NSAsecurityPosters1950s60s/NSAsecurityPosters_1950s-60s_jp2.zip/NSAsecurityPosters_1950s-60s_jp2%2FNSAsecurityPosters_1950s-60s_0100.jpg  NSAsecurityPosters_1950s-60s_0100.jpg\n",
      "https://archive.org/download/NSAsecurityPosters1950s60s/NSAsecurityPosters_1950s-60s_jp2.zip/NSAsecurityPosters_1950s-60s_jp2%2FNSAsecurityPosters_1950s-60s_0101.jpg  NSAsecurityPosters_1950s-60s_0101.jpg\n",
      "https://archive.org/download/NSAsecurityPosters1950s60s/NSAsecurityPosters_1950s-60s_jp2.zip/NSAsecurityPosters_1950s-60s_jp2%2FNSAsecurityPosters_1950s-60s_0102.jpg  NSAsecurityPosters_1950s-60s_0102.jpg\n",
      "https://archive.org/download/NSAsecurityPosters1950s60s/NSAsecurityPosters_1950s-60s_jp2.zip/NSAsecurityPosters_1950s-60s_jp2%2FNSAsecurityPosters_1950s-60s_0103.jpg  NSAsecurityPosters_1950s-60s_0103.jpg\n",
      "https://archive.org/download/NSAsecurityPosters1950s60s/NSAsecurityPosters_1950s-60s_jp2.zip/NSAsecurityPosters_1950s-60s_jp2%2FNSAsecurityPosters_1950s-60s_0104.jpg  NSAsecurityPosters_1950s-60s_0104.jpg\n",
      "https://archive.org/download/NSAsecurityPosters1950s60s/NSAsecurityPosters_1950s-60s_jp2.zip/NSAsecurityPosters_1950s-60s_jp2%2FNSAsecurityPosters_1950s-60s_0105.jpg  NSAsecurityPosters_1950s-60s_0105.jpg\n",
      "https://archive.org/download/NSAsecurityPosters1950s60s/NSAsecurityPosters_1950s-60s_jp2.zip/NSAsecurityPosters_1950s-60s_jp2%2FNSAsecurityPosters_1950s-60s_0106.jpg  NSAsecurityPosters_1950s-60s_0106.jpg\n",
      "https://archive.org/download/NSAsecurityPosters1950s60s/NSAsecurityPosters_1950s-60s_jp2.zip/NSAsecurityPosters_1950s-60s_jp2%2FNSAsecurityPosters_1950s-60s_0107.jpg  NSAsecurityPosters_1950s-60s_0107.jpg\n",
      "https://archive.org/download/NSAsecurityPosters1950s60s/NSAsecurityPosters_1950s-60s_jp2.zip/NSAsecurityPosters_1950s-60s_jp2%2FNSAsecurityPosters_1950s-60s_0108.jpg  NSAsecurityPosters_1950s-60s_0108.jpg\n",
      "https://archive.org/download/NSAsecurityPosters1950s60s/NSAsecurityPosters_1950s-60s_jp2.zip/NSAsecurityPosters_1950s-60s_jp2%2FNSAsecurityPosters_1950s-60s_0109.jpg  NSAsecurityPosters_1950s-60s_0109.jpg\n",
      "https://archive.org/download/NSAsecurityPosters1950s60s/NSAsecurityPosters_1950s-60s_jp2.zip/NSAsecurityPosters_1950s-60s_jp2%2FNSAsecurityPosters_1950s-60s_0110.jpg  NSAsecurityPosters_1950s-60s_0110.jpg\n",
      "https://archive.org/download/NSAsecurityPosters1950s60s/NSAsecurityPosters_1950s-60s_jp2.zip/NSAsecurityPosters_1950s-60s_jp2%2FNSAsecurityPosters_1950s-60s_0111.jpg  NSAsecurityPosters_1950s-60s_0111.jpg\n",
      "https://archive.org/download/NSAsecurityPosters1950s60s/NSAsecurityPosters_1950s-60s_jp2.zip/NSAsecurityPosters_1950s-60s_jp2%2FNSAsecurityPosters_1950s-60s_0112.jpg  NSAsecurityPosters_1950s-60s_0112.jpg\n",
      "https://archive.org/download/NSAsecurityPosters1950s60s/NSAsecurityPosters_1950s-60s_jp2.zip/NSAsecurityPosters_1950s-60s_jp2%2FNSAsecurityPosters_1950s-60s_0113.jpg  NSAsecurityPosters_1950s-60s_0113.jpg\n",
      "https://archive.org/download/NSAsecurityPosters1950s60s/NSAsecurityPosters_1950s-60s_jp2.zip/NSAsecurityPosters_1950s-60s_jp2%2FNSAsecurityPosters_1950s-60s_0114.jpg  NSAsecurityPosters_1950s-60s_0114.jpg\n",
      "https://archive.org/download/NSAsecurityPosters1950s60s/NSAsecurityPosters_1950s-60s_jp2.zip/NSAsecurityPosters_1950s-60s_jp2%2FNSAsecurityPosters_1950s-60s_0115.jpg  NSAsecurityPosters_1950s-60s_0115.jpg\n",
      "https://archive.org/download/NSAsecurityPosters1950s60s/NSAsecurityPosters_1950s-60s_jp2.zip/NSAsecurityPosters_1950s-60s_jp2%2FNSAsecurityPosters_1950s-60s_0116.jpg  NSAsecurityPosters_1950s-60s_0116.jpg\n",
      "https://archive.org/download/NSAsecurityPosters1950s60s/NSAsecurityPosters_1950s-60s_jp2.zip/NSAsecurityPosters_1950s-60s_jp2%2FNSAsecurityPosters_1950s-60s_0117.jpg  NSAsecurityPosters_1950s-60s_0117.jpg\n",
      "https://archive.org/download/NSAsecurityPosters1950s60s/NSAsecurityPosters_1950s-60s_jp2.zip/NSAsecurityPosters_1950s-60s_jp2%2FNSAsecurityPosters_1950s-60s_0118.jpg  NSAsecurityPosters_1950s-60s_0118.jpg\n",
      "https://archive.org/download/NSAsecurityPosters1950s60s/NSAsecurityPosters_1950s-60s_jp2.zip/NSAsecurityPosters_1950s-60s_jp2%2FNSAsecurityPosters_1950s-60s_0119.jpg  NSAsecurityPosters_1950s-60s_0119.jpg\n"
     ]
    },
    {
     "name": "stdout",
     "output_type": "stream",
     "text": [
      "https://archive.org/download/NSAsecurityPosters1950s60s/NSAsecurityPosters_1950s-60s_jp2.zip/NSAsecurityPosters_1950s-60s_jp2%2FNSAsecurityPosters_1950s-60s_0120.jpg  NSAsecurityPosters_1950s-60s_0120.jpg\n",
      "https://archive.org/download/NSAsecurityPosters1950s60s/NSAsecurityPosters_1950s-60s_jp2.zip/NSAsecurityPosters_1950s-60s_jp2%2FNSAsecurityPosters_1950s-60s_0121.jpg  NSAsecurityPosters_1950s-60s_0121.jpg\n",
      "https://archive.org/download/NSAsecurityPosters1950s60s/NSAsecurityPosters_1950s-60s_jp2.zip/NSAsecurityPosters_1950s-60s_jp2%2FNSAsecurityPosters_1950s-60s_0122.jpg  NSAsecurityPosters_1950s-60s_0122.jpg\n",
      "https://archive.org/download/NSAsecurityPosters1950s60s/NSAsecurityPosters_1950s-60s_jp2.zip/NSAsecurityPosters_1950s-60s_jp2%2FNSAsecurityPosters_1950s-60s_0123.jpg  NSAsecurityPosters_1950s-60s_0123.jpg\n",
      "https://archive.org/download/NSAsecurityPosters1950s60s/NSAsecurityPosters_1950s-60s_jp2.zip/NSAsecurityPosters_1950s-60s_jp2%2FNSAsecurityPosters_1950s-60s_0124.jpg  NSAsecurityPosters_1950s-60s_0124.jpg\n",
      "https://archive.org/download/NSAsecurityPosters1950s60s/NSAsecurityPosters_1950s-60s_jp2.zip/NSAsecurityPosters_1950s-60s_jp2%2FNSAsecurityPosters_1950s-60s_0125.jpg  NSAsecurityPosters_1950s-60s_0125.jpg\n",
      "https://archive.org/download/NSAsecurityPosters1950s60s/NSAsecurityPosters_1950s-60s_jp2.zip/NSAsecurityPosters_1950s-60s_jp2%2FNSAsecurityPosters_1950s-60s_0126.jpg  NSAsecurityPosters_1950s-60s_0126.jpg\n",
      "https://archive.org/download/NSAsecurityPosters1950s60s/NSAsecurityPosters_1950s-60s_jp2.zip/NSAsecurityPosters_1950s-60s_jp2%2FNSAsecurityPosters_1950s-60s_0127.jpg  NSAsecurityPosters_1950s-60s_0127.jpg\n",
      "https://archive.org/download/NSAsecurityPosters1950s60s/NSAsecurityPosters_1950s-60s_jp2.zip/NSAsecurityPosters_1950s-60s_jp2%2FNSAsecurityPosters_1950s-60s_0128.jpg  NSAsecurityPosters_1950s-60s_0128.jpg\n",
      "https://archive.org/download/NSAsecurityPosters1950s60s/NSAsecurityPosters_1950s-60s_jp2.zip/NSAsecurityPosters_1950s-60s_jp2%2FNSAsecurityPosters_1950s-60s_0129.jpg  NSAsecurityPosters_1950s-60s_0129.jpg\n",
      "https://archive.org/download/NSAsecurityPosters1950s60s/NSAsecurityPosters_1950s-60s_jp2.zip/NSAsecurityPosters_1950s-60s_jp2%2FNSAsecurityPosters_1950s-60s_0130.jpg  NSAsecurityPosters_1950s-60s_0130.jpg\n",
      "https://archive.org/download/NSAsecurityPosters1950s60s/NSAsecurityPosters_1950s-60s_jp2.zip/NSAsecurityPosters_1950s-60s_jp2%2FNSAsecurityPosters_1950s-60s_0131.jpg  NSAsecurityPosters_1950s-60s_0131.jpg\n",
      "https://archive.org/download/NSAsecurityPosters1950s60s/NSAsecurityPosters_1950s-60s_jp2.zip/NSAsecurityPosters_1950s-60s_jp2%2FNSAsecurityPosters_1950s-60s_0132.jpg  NSAsecurityPosters_1950s-60s_0132.jpg\n",
      "https://archive.org/download/NSAsecurityPosters1950s60s/NSAsecurityPosters_1950s-60s_jp2.zip/NSAsecurityPosters_1950s-60s_jp2%2FNSAsecurityPosters_1950s-60s_0133.jpg  NSAsecurityPosters_1950s-60s_0133.jpg\n",
      "https://archive.org/download/NSAsecurityPosters1950s60s/NSAsecurityPosters_1950s-60s_jp2.zip/NSAsecurityPosters_1950s-60s_jp2%2FNSAsecurityPosters_1950s-60s_0134.jpg  NSAsecurityPosters_1950s-60s_0134.jpg\n",
      "https://archive.org/download/NSAsecurityPosters1950s60s/NSAsecurityPosters_1950s-60s_jp2.zip/NSAsecurityPosters_1950s-60s_jp2%2FNSAsecurityPosters_1950s-60s_0135.jpg  NSAsecurityPosters_1950s-60s_0135.jpg\n",
      "https://archive.org/download/NSAsecurityPosters1950s60s/NSAsecurityPosters_1950s-60s_jp2.zip/NSAsecurityPosters_1950s-60s_jp2%2FNSAsecurityPosters_1950s-60s_0136.jpg  NSAsecurityPosters_1950s-60s_0136.jpg\n",
      "https://archive.org/download/NSAsecurityPosters1950s60s/NSAsecurityPosters_1950s-60s_jp2.zip/NSAsecurityPosters_1950s-60s_jp2%2FNSAsecurityPosters_1950s-60s_0137.jpg  NSAsecurityPosters_1950s-60s_0137.jpg\n",
      "https://archive.org/download/NSAsecurityPosters1950s60s/NSAsecurityPosters_1950s-60s_jp2.zip/NSAsecurityPosters_1950s-60s_jp2%2FNSAsecurityPosters_1950s-60s_0138.jpg  NSAsecurityPosters_1950s-60s_0138.jpg\n"
     ]
    }
   ],
   "source": [
    "for jpg_cell in soup.find_all(id=\"jpg\"):\n",
    "    link = 'https:' + jpg_cell.find('a').attrs['href']\n",
    "    # I noticed that part of the download url contains the HTML encoding '%2F'.  I need to replace that with a \n",
    "    # forward slash before I have a valid link I can use to download\n",
    "    file_name = link.replace('%2F', '/').split('/')[-1]\n",
    "    print(link + '  ' + file_name)  # just to visually validate I parsed the link and filename correctly\n",
    "    r = requests.get(link)\n",
    "    open(\"./data/\" + file_name, 'wb').write(r.content)"
   ]
  }
 ],
 "metadata": {
  "kernelspec": {
   "display_name": "Python 3",
   "language": "python",
   "name": "python3"
  },
  "language_info": {
   "codemirror_mode": {
    "name": "ipython",
    "version": 3
   },
   "file_extension": ".py",
   "mimetype": "text/x-python",
   "name": "python",
   "nbconvert_exporter": "python",
   "pygments_lexer": "ipython3",
   "version": "3.6.2"
  }
 },
 "nbformat": 4,
 "nbformat_minor": 2
}
